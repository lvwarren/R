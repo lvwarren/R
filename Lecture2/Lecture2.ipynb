{
 "cells": [
  {
   "cell_type": "markdown",
   "metadata": {},
   "source": [
    "# Introduction to R: Lecture 2: Matrices\n",
    "L. Van Warren<br>\n",
    "University of Arkansas, Little Rock, Arkansas <br>\n",
    "Inspired by Lecture Slides of Prof. Mary Yang - IFSC 5399\n",
    "\n",
    "[Duke R Reference](http://people.duke.edu/~ccc14/ngs-2015/BasicRinJupyterAndRstudio.html) |\n",
    "[Type Conversion](https://www.statmethods.net/management/typeconversion.html)\n",
    "\n",
    "I use:\n",
    "- uppercase letters to represent matrices, and lowercase letters for vectors\n",
    "- equal sign '=' for '<-'  left hand assignment\n",
    "-             and    '->' for right hand assignment\n",
    "- misc. support functions from ../lib/vLib.R that I wrote."
   ]
  },
  {
   "cell_type": "code",
   "execution_count": 1,
   "metadata": {},
   "outputs": [],
   "source": [
    "# source(\"../lib/vFun.r\") # Support Routines\n",
    "# v for Van or Visualize, as you prefer\n",
    "\n",
    "vF2C    = function(f)   { 5 / 9 * (f - 32) }\n",
    "vC2F    = function(c)   { 9 / 5 *  c + 32  }\n",
    "\n",
    "vMod    = function(n, m) { n - m * floor(n/m) }\n",
    "vShell  = function(command) {cat(system(command, intern=T), sep='\\n')}\n",
    "vShow   = function(s,u) {cat(s, noquote(paste(u)),'\\n')}\n",
    "vComment = function(U) { cat(U, \"\\n\"); }\n",
    "\n",
    "vPrintVector = function(U)\n",
    "{   \n",
    "    if(!is.vector(U)) { warning(\"vPrintVector(U): argument U is not a Vector.\") }\n",
    "    cat(deparse(substitute(U)), noquote(paste(U)),'\\n');\n",
    "}\n",
    "\n",
    "vPrintMatrix = function(U)\n",
    "{   \n",
    "    if(!is.matrix(U)) { warning(\"vPrintMatrix(U): argument U is not a Matrix.\") }\n",
    "    cat(deparse(substitute(U)));\n",
    "    prmatrix(U,quote=F,right=T)\n",
    "}\n",
    "\n",
    "vPrintLabelAndVector = function(label, U)\n",
    "{   \n",
    "    if(!is.vector(U)) { warning(\"vPrintVector(U): argument U is not a Vector.\") }\n",
    "    cat(label, noquote(paste(U)),'\\n');\n",
    "}\n",
    "\n",
    "vPrintLabelAndMatrix = function(label, U)\n",
    "{   \n",
    "    if(!is.matrix(U)) { warning(\"vPrintMatrix(U): argument U is not a Matrix.\") }\n",
    "    cat(label);\n",
    "    prmatrix(U,quote=F,right=T)\n",
    "}\n",
    "\n",
    "vPrint = function(U)\n",
    "{\n",
    "    label = deparse(substitute(U))\n",
    "    if(is.vector(U)) { vPrintLabelAndVector(label, U) }\n",
    "    if(is.matrix(U)) { vPrintLabelAndMatrix(label, U) }\n",
    "}\n",
    "\n",
    "vMatrix = function(s, M)\n",
    "{\n",
    "    m = dim(M)[1]\n",
    "    n = dim(M)[2]\n",
    "    image(1:m,1:m,\n",
    "          flip.matrix(rotate180.matrix((M))),\n",
    "          axes=FALSE, ann=FALSE,\n",
    "          col = gray.colors(m*n, 0, 1, 2.2))\n",
    "    mtext(side = 1, text = s, line = 1) # manual text\n",
    "}\n",
    "\n",
    "vIdentityMatrix = function(size) { diag(size); }\n",
    "\n",
    "# Smart package loader adapted from: https://rpubs.com/aagarwal29/179912\n",
    "vLoadList = function(packageList)\n",
    "{\n",
    "    newPackages = packageList[!(packageList %in% installed.packages()[,\"Package\"])]\n",
    "    # Install the ones that aren't there!\n",
    "    if(length(newPackages)) install.packages(newPackages)\n",
    "    # Load them\n",
    "    lapply(packageList,function(x){library(x,character.only=TRUE)})\n",
    "    # paste(version$version.string)\n",
    "    cat(\"Loaded Library Versions: \")\n",
    "    paste(packageList, packageVersion(packageList), collapse=' ')\n",
    "}\n",
    "\n",
    "vUnloadLibs = function() { pacman::p_unload(pacman::p_loaded(), character.only = TRUE) }\n",
    "vUnloadObjs = function() { rm(list=ls()) }\n",
    "vUnloadAll  = function() { vUnloadLibs(); vUnloadObjs(); }"
   ]
  },
  {
   "cell_type": "markdown",
   "metadata": {},
   "source": [
    "## Matrix Exercise/Homework\n",
    "- See Matrix.docx for full problem and solution.\n",
    "- Note I use = for left assignment and -> for right assignment"
   ]
  },
  {
   "cell_type": "code",
   "execution_count": 2,
   "metadata": {},
   "outputs": [
    {
     "name": "stdout",
     "output_type": "stream",
     "text": [
      "M  A  B\n",
      "a 1  6\n",
      "b 2  7\n",
      "c 3  8\n",
      "d 4  9\n",
      "e 5 10\n",
      "t(apply(M, 2, max))     A  B\n",
      "[1,] 5 10\n"
     ]
    }
   ],
   "source": [
    "M = matrix(c(1:10),nrow=5,ncol=2, dimnames=list(c(\"a\",\"b\",\"c\",\"d\",\"e\"),c(\"A\",\"B\")));\n",
    "vPrint(M);\n",
    "vPrint(t(apply(M,2,max)))"
   ]
  },
  {
   "cell_type": "code",
   "execution_count": 3,
   "metadata": {},
   "outputs": [
    {
     "name": "stdout",
     "output_type": "stream",
     "text": [
      "A  x y z\n",
      "a 1 4 7\n",
      "b 2 5 8\n",
      "c 3 6 9\n"
     ]
    },
    {
     "data": {
      "text/html": [
       "<table>\n",
       "<caption>A matrix: 3 × 3 of type int</caption>\n",
       "<thead>\n",
       "\t<tr><th></th><th scope=col>x</th><th scope=col>y</th><th scope=col>z</th></tr>\n",
       "</thead>\n",
       "<tbody>\n",
       "\t<tr><th scope=row>a</th><td>1</td><td>4</td><td>7</td></tr>\n",
       "\t<tr><th scope=row>b</th><td>2</td><td>5</td><td>8</td></tr>\n",
       "\t<tr><th scope=row>c</th><td>3</td><td>6</td><td>9</td></tr>\n",
       "</tbody>\n",
       "</table>\n"
      ],
      "text/latex": [
       "A matrix: 3 × 3 of type int\n",
       "\\begin{tabular}{r|lll}\n",
       "  & x & y & z\\\\\n",
       "\\hline\n",
       "\ta & 1 & 4 & 7\\\\\n",
       "\tb & 2 & 5 & 8\\\\\n",
       "\tc & 3 & 6 & 9\\\\\n",
       "\\end{tabular}\n"
      ],
      "text/markdown": [
       "\n",
       "A matrix: 3 × 3 of type int\n",
       "\n",
       "| <!--/--> | x | y | z |\n",
       "|---|---|---|---|\n",
       "| a | 1 | 4 | 7 |\n",
       "| b | 2 | 5 | 8 |\n",
       "| c | 3 | 6 | 9 |\n",
       "\n"
      ],
      "text/plain": [
       "  x y z\n",
       "a 1 4 7\n",
       "b 2 5 8\n",
       "c 3 6 9"
      ]
     },
     "metadata": {},
     "output_type": "display_data"
    }
   ],
   "source": [
    "x = 1:3\n",
    "y = 4:6\n",
    "z = 7:9\n",
    "A = cbind(x,y,z)\n",
    "rownames(A) = c(\"a\", \"b\", \"c\")\n",
    "vPrint(A)\n",
    "A"
   ]
  },
  {
   "cell_type": "markdown",
   "metadata": {},
   "source": [
    "## Open Questions vs. Leading Questions\n",
    "Notes while watching impeachment coverage.\n",
    "<pre>\n",
    "- Open,   Direct Examination \"Tell me the process for doing X?\" or \"Who do you call to get X done?\"\n",
    "- Leading, Cross Examination \"Is it true that X did thing Y that was not a good thing to do?\"\n",
    "</pre>"
   ]
  },
  {
   "cell_type": "markdown",
   "metadata": {},
   "source": [
    "## Slide 1: Matrices\n",
    "- A matrix is a vector but a vector is not a one-column or one-row matrices"
   ]
  },
  {
   "cell_type": "code",
   "execution_count": 4,
   "metadata": {},
   "outputs": [
    {
     "name": "stdout",
     "output_type": "stream",
     "text": [
      "M     [,1] [,2]\n",
      "[1,]    8   10\n",
      "[2,]    9   11\n",
      "v 1 2 3 4 5 6 7 8 9 10 \n"
     ]
    }
   ],
   "source": [
    "M = matrix(8:11, nrow=2); vPrint(M)\n",
    "v = c(1:10); vPrint(v)"
   ]
  },
  {
   "cell_type": "code",
   "execution_count": 5,
   "metadata": {},
   "outputs": [
    {
     "data": {
      "text/plain": [
       "NULL"
      ]
     },
     "metadata": {},
     "output_type": "display_data"
    },
    {
     "name": "stdout",
     "output_type": "stream",
     "text": [
      "      dim(v):  \n",
      "      dim(M):  2 2 \n",
      "     mode(M):  numeric \n",
      "    class(M):  matrix \n",
      "is.matrix(M):  TRUE \n",
      " which(M > 2):  3 4 \n"
     ]
    }
   ],
   "source": [
    "dim(v)                                    ; # Dimension of a vector is NULL, does    print\n",
    "cat(\"      dim(v): \",        dim(v), \"\\n\"); # Dimension of a vector is NULL, doesn't print\n",
    "cat(\"      dim(M): \",        dim(M), \"\\n\"); \n",
    "cat(\"     mode(M): \",       mode(M), \"\\n\");\n",
    "cat(\"    class(M): \",      class(M), \"\\n\");\n",
    "cat(\"is.matrix(M): \",  is.matrix(M), \"\\n\");\n",
    "cat(\" which(M > 2): \", which(M > 9), \"\\n\"); # Which INDICES of flattened Y hold values > 9?"
   ]
  },
  {
   "cell_type": "markdown",
   "metadata": {},
   "source": [
    "## Slides 2-3: Creating Matrices\n",
    "- Can be numeric or character\n",
    "- All types must be same, or matrix is coerced to character.\n",
    "- Subscripted from 1\n",
    "- Upper-left is Y[1,1]\n",
    "- column major storage if linearized/one-dimensionalized"
   ]
  },
  {
   "cell_type": "code",
   "execution_count": 6,
   "metadata": {},
   "outputs": [
    {
     "name": "stdout",
     "output_type": "stream",
     "text": [
      "letters ABCDEFGHIJKLMNOPQRSTUVWXYZ \n",
      "M     [,1] [,2] [,3] [,4] [,5]\n",
      "[1,]    A    B    C    D    E\n",
      "[2,]    F    G    H    I    J\n",
      "[3,]    K    L    M    N    O\n",
      "[4,]    P    Q    R    S    T\n",
      "[5,]    U    V    W    X    Y\n"
     ]
    },
    {
     "data": {
      "text/html": [
       "'ABCDEFGHIJKLMNOPQRSTUVWXYZ'"
      ],
      "text/latex": [
       "'ABCDEFGHIJKLMNOPQRSTUVWXYZ'"
      ],
      "text/markdown": [
       "'ABCDEFGHIJKLMNOPQRSTUVWXYZ'"
      ],
      "text/plain": [
       "[1] \"ABCDEFGHIJKLMNOPQRSTUVWXYZ\""
      ]
     },
     "metadata": {},
     "output_type": "display_data"
    },
    {
     "data": {
      "text/html": [
       "<table>\n",
       "<caption>A matrix: 5 × 5 of type chr</caption>\n",
       "<tbody>\n",
       "\t<tr><td>A</td><td>B</td><td>C</td><td>D</td><td>E</td></tr>\n",
       "\t<tr><td>F</td><td>G</td><td>H</td><td>I</td><td>J</td></tr>\n",
       "\t<tr><td>K</td><td>L</td><td>M</td><td>N</td><td>O</td></tr>\n",
       "\t<tr><td>P</td><td>Q</td><td>R</td><td>S</td><td>T</td></tr>\n",
       "\t<tr><td>U</td><td>V</td><td>W</td><td>X</td><td>Y</td></tr>\n",
       "</tbody>\n",
       "</table>\n"
      ],
      "text/latex": [
       "A matrix: 5 × 5 of type chr\n",
       "\\begin{tabular}{lllll}\n",
       "\t A & B & C & D & E\\\\\n",
       "\t F & G & H & I & J\\\\\n",
       "\t K & L & M & N & O\\\\\n",
       "\t P & Q & R & S & T\\\\\n",
       "\t U & V & W & X & Y\\\\\n",
       "\\end{tabular}\n"
      ],
      "text/markdown": [
       "\n",
       "A matrix: 5 × 5 of type chr\n",
       "\n",
       "| A | B | C | D | E |\n",
       "| F | G | H | I | J |\n",
       "| K | L | M | N | O |\n",
       "| P | Q | R | S | T |\n",
       "| U | V | W | X | Y |\n",
       "\n"
      ],
      "text/plain": [
       "     [,1] [,2] [,3] [,4] [,5]\n",
       "[1,] A    B    C    D    E   \n",
       "[2,] F    G    H    I    J   \n",
       "[3,] K    L    M    N    O   \n",
       "[4,] P    Q    R    S    T   \n",
       "[5,] U    V    W    X    Y   "
      ]
     },
     "metadata": {},
     "output_type": "display_data"
    }
   ],
   "source": [
    "M = matrix(1:25,nrow=5)\n",
    "\n",
    "letters = paste(LETTERS, collapse = \"\"); vPrint(letters) # collapse should be separator\n",
    "\n",
    "for (i in 1:nrow(M))   \n",
    "    for (j in 1:ncol(M))\n",
    "    {\n",
    "        k = (i-1)*nrow(M) + j\n",
    "        M[i,j] = substring(letters,k,k)\n",
    "    }\n",
    "vPrint(M)\n",
    "letters\n",
    "M"
   ]
  },
  {
   "cell_type": "markdown",
   "metadata": {},
   "source": [
    "## Slides 4-7: Creating Matrices"
   ]
  },
  {
   "cell_type": "code",
   "execution_count": 7,
   "metadata": {},
   "outputs": [
    {
     "name": "stdout",
     "output_type": "stream",
     "text": [
      "Y     [,1] [,2]\n",
      "[1,]    1    3\n",
      "[2,]    2    4\n",
      "Y.     [,1] [,2]\n",
      "[1,]    1    3\n",
      "[2,]    2    4\n",
      "Y == Y.     [,1] [,2]\n",
      "[1,] TRUE TRUE\n",
      "[2,] TRUE TRUE\n",
      "Y     [,1] [,2]\n",
      "[1,]    1    3\n",
      "[2,]    2    0\n",
      "Y == Y.     [,1]  [,2]\n",
      "[1,] TRUE  TRUE\n",
      "[2,] TRUE FALSE\n",
      "Y..     [,1] [,2]\n",
      "[1,]    1    2\n",
      "[2,]    3    4\n",
      "Y == Y..      [,1]  [,2]\n",
      "[1,]  TRUE FALSE\n",
      "[2,] FALSE FALSE\n"
     ]
    }
   ],
   "source": [
    "# The overdetermined case.\n",
    "# Notice that nrow and ncol attributes are SINGULAR, not PLURAL.\n",
    "Y  = matrix(1:4,nrow=2,ncol=2); vPrint(Y);    # Simple\n",
    "Y. = matrix(c(1,2,3,4),nrow=2); vPrint(Y.);   # Vector \n",
    "vPrint(Y == Y.)                               # Test for equivalence.\n",
    "Y[2,2] = 0                                # Perturb an entry.\n",
    "vPrint(Y)\n",
    "vPrint(Y == Y.)                               # \n",
    "Y.. = matrix(1:4,nrow=2,byrow=T); vPrint(Y..) # Row major order\n",
    "vPrint(Y == Y..)                              # Test"
   ]
  },
  {
   "cell_type": "markdown",
   "metadata": {},
   "source": [
    "## Slides 8-10: Linear Algebra Operations"
   ]
  },
  {
   "cell_type": "code",
   "execution_count": 8,
   "metadata": {
    "scrolled": true
   },
   "outputs": [
    {
     "name": "stdout",
     "output_type": "stream",
     "text": [
      "Y     [,1] [,2]\n",
      "[1,]    1    3\n",
      "[2,]    2    4\n",
      "3 * Y     [,1] [,2]\n",
      "[1,]    3    9\n",
      "[2,]    6   12\n"
     ]
    }
   ],
   "source": [
    "Y = matrix(1:4, nrow=2); vPrint(Y)\n",
    "vPrint(3*Y) # termwise multiplication of constant"
   ]
  },
  {
   "cell_type": "code",
   "execution_count": 9,
   "metadata": {
    "scrolled": true
   },
   "outputs": [
    {
     "name": "stdout",
     "output_type": "stream",
     "text": [
      "Y + Y     [,1] [,2]\n",
      "[1,]    2    6\n",
      "[2,]    4    8\n"
     ]
    }
   ],
   "source": [
    "vPrint(Y+Y) # termwise matrix addition"
   ]
  },
  {
   "cell_type": "code",
   "execution_count": 10,
   "metadata": {},
   "outputs": [
    {
     "name": "stdout",
     "output_type": "stream",
     "text": [
      "Y * Y     [,1] [,2]\n",
      "[1,]    1    9\n",
      "[2,]    4   16\n"
     ]
    }
   ],
   "source": [
    "vPrint(Y*Y) # termwise matrix multiply"
   ]
  },
  {
   "cell_type": "code",
   "execution_count": 11,
   "metadata": {},
   "outputs": [
    {
     "name": "stdout",
     "output_type": "stream",
     "text": [
      "Y %*% Y     [,1] [,2]\n",
      "[1,]    7   15\n",
      "[2,]   10   22\n"
     ]
    }
   ],
   "source": [
    "vPrint(Y %*% Y) # full matrix multiply"
   ]
  },
  {
   "cell_type": "code",
   "execution_count": 12,
   "metadata": {},
   "outputs": [
    {
     "name": "stdout",
     "output_type": "stream",
     "text": [
      "k * I4     [,1] [,2] [,3] [,4] [,5] [,6]\n",
      "[1,]    6    0    0    0    0    0\n",
      "[2,]    0    6    0    0    0    0\n",
      "[3,]    0    0    6    0    0    0\n",
      "[4,]    0    0    0    6    0    0\n",
      "[5,]    0    0    0    0    6    0\n",
      "[6,]    0    0    0    0    0    6\n"
     ]
    },
    {
     "data": {
      "text/html": [
       "46655.9999999999"
      ],
      "text/latex": [
       "46655.9999999999"
      ],
      "text/markdown": [
       "46655.9999999999"
      ],
      "text/plain": [
       "[1] 46656"
      ]
     },
     "metadata": {},
     "output_type": "display_data"
    },
    {
     "data": {
      "text/html": [
       "46656"
      ],
      "text/latex": [
       "46656"
      ],
      "text/markdown": [
       "46656"
      ],
      "text/plain": [
       "[1] 46656"
      ]
     },
     "metadata": {},
     "output_type": "display_data"
    }
   ],
   "source": [
    "k = 6\n",
    "I4 = vIdentityMatrix(k)\n",
    "vPrint(k*I4)\n",
    "det(k*I4)\n",
    "k^k"
   ]
  },
  {
   "cell_type": "markdown",
   "metadata": {},
   "source": [
    "## Slides 11-15: Matrix Indexing\n",
    "### Referencing Rows and Columns\n",
    "- Rows M[i,] and Columns by M[,j]"
   ]
  },
  {
   "cell_type": "code",
   "execution_count": 13,
   "metadata": {},
   "outputs": [
    {
     "name": "stdout",
     "output_type": "stream",
     "text": [
      "Construct a Matrix using cbind and four column vectors:\n",
      "Z     [,1] [,2] [,3]\n",
      "[1,]    1    1    1\n",
      "[2,]    2    1    0\n",
      "[3,]    3    0    1\n",
      "[4,]    4    0    0\n",
      "Drop first column of Z using Z[,2:3]:\n",
      "DC1Z     [,1] [,2]\n",
      "[1,]    1    1\n",
      "[2,]    1    0\n",
      "[3,]    0    1\n",
      "[4,]    0    0\n",
      "Drop first column of Z using Z[,-1]:\n",
      "DC1Z     [,1] [,2]\n",
      "[1,]    1    1\n",
      "[2,]    1    0\n",
      "[3,]    0    1\n",
      "[4,]    0    0\n",
      "Prevent Z from reverting to a vector using    drop=F argumentZ[, 1, drop = F]     [,1]\n",
      "[1,]    1\n",
      "[2,]    2\n",
      "[3,]    3\n",
      "[4,]    4\n",
      "Confirm Z      reverts to a vector without drop=F argumentu 1 2 3 4 \n",
      "is.matrix(u) is:  FALSE \n",
      "Confirm Z        stays    a matrix with    drop=F argumentu     [,1]\n",
      "[1,]    1\n",
      "[2,]    2\n",
      "[3,]    3\n",
      "[4,]    4\n",
      "is.matrix(u) is:  TRUE \n"
     ]
    }
   ],
   "source": [
    "cat(\"Construct a Matrix using cbind and four column vectors:\\n\")\n",
    "Z =cbind(1:4, c(1,1,0,0), c(1,0,1,0)); vPrint(Z)\n",
    "\n",
    "cat(\"Drop first column of Z using Z[,2:3]:\\n\")  # use to delete any row or column\n",
    "DC1Z = Z[,2:3]; vPrint(DC1Z)\n",
    "\n",
    "cat(\"Drop first column of Z using Z[,-1]:\\n\")  # use to delete any row or column\n",
    "DC1Z = Z[,-1]; vPrint(DC1Z)\n",
    "\n",
    "cat(\"Prevent Z from reverting to a vector using    drop=F argument\")\n",
    "vPrint(Z[,1, drop=F])\n",
    "\n",
    "cat(\"Confirm Z      reverts to a vector without drop=F argument\")\n",
    "u=Z[,1]\n",
    "vPrint(u)\n",
    "cat(\"is.matrix(u) is: \", is.matrix(u), \"\\n\")\n",
    "\n",
    "cat(\"Confirm Z        stays    a matrix with    drop=F argument\")\n",
    "u=Z[,1, drop=F]\n",
    "vPrint(u)\n",
    "cat(\"is.matrix(u) is: \", is.matrix(u), \"\\n\")\n",
    "\n",
    "# This example is irrelevant because Z won't revert to a vector with two columns!\n",
    "# Z[1:2,, drop=FALSE]             # EVERYTHING hinges on the presence of that second comma, \n",
    "# is.matrix(Z[1:2,, drop=FALSE])  # for the drop=FALSE to be HEARD or registered."
   ]
  },
  {
   "cell_type": "code",
   "execution_count": 14,
   "metadata": {},
   "outputs": [
    {
     "name": "stdout",
     "output_type": "stream",
     "text": [
      "Create a 3 x 2 matrix called Y:\n",
      "Y     [,1] [,2]\n",
      "[1,]    1    4\n",
      "[2,]    2    5\n",
      "[3,]    3    6\n",
      "Create the vector (1 3):\n",
      "c(1, 3) 1 3 \n",
      "Create a 2x2 matrix called Z:\n",
      "Z     [,1] [,2]\n",
      "[1,]    1    8\n",
      "[2,]    1   12\n",
      "The submatrix of Y to be given the values from Z:\n",
      "Y[c(1, 3), ]     [,1] [,2]\n",
      "[1,]    1    4\n",
      "[2,]    3    6\n",
      "Y     [,1] [,2]\n",
      "[1,]    1    8\n",
      "[2,]    2    5\n",
      "[3,]    1   12\n"
     ]
    }
   ],
   "source": [
    "# Assignment to submatrices\n",
    "cat(\"Create a 3 x 2 matrix called Y:\\n\")\n",
    "Y = matrix(1:6,nrow=3); vPrint(Y)\n",
    "\n",
    "cat(\"Create the vector (1 3):\\n\")\n",
    "vPrint(c(1,3))\n",
    "cat(\"Create a 2x2 matrix called Z:\\n\")\n",
    "Z = matrix(c(1,1,8,12),nrow=2); vPrint(Z)\n",
    "\n",
    "cat(\"The submatrix of Y to be given the values from Z:\\n\")\n",
    "vPrint(Y[c(1,3),])\n",
    "Y[c(1,3),] = Z; vPrint(Y)"
   ]
  },
  {
   "cell_type": "code",
   "execution_count": 15,
   "metadata": {},
   "outputs": [
    {
     "name": "stdout",
     "output_type": "stream",
     "text": [
      "We can use negative subscripts to exclude rows or columns.\n",
      "Consider Y: \n",
      "Y     [,1] [,2]\n",
      "[1,]    1    4\n",
      "[2,]    2    5\n",
      "[3,]    3    6\n",
      "Y[-2,] excludes the second row: \n",
      "Y[-2, ]     [,1] [,2]\n",
      "[1,]    1    4\n",
      "[2,]    3    6\n"
     ]
    }
   ],
   "source": [
    "cat(\"We can use negative subscripts to exclude rows or columns.\\n\")\n",
    "cat(\"Consider Y: \\n\")\n",
    "Y = matrix(1:6,nrow=3); vPrint(Y)\n",
    "cat(\"Y[-2,] excludes the second row: \\n\");\n",
    "vPrint(Y[-2,])"
   ]
  },
  {
   "cell_type": "markdown",
   "metadata": {},
   "source": [
    "## Slides 18-22: Filtering on Matrices"
   ]
  },
  {
   "cell_type": "code",
   "execution_count": 16,
   "metadata": {},
   "outputs": [
    {
     "name": "stdout",
     "output_type": "stream",
     "text": [
      "Filtering can be done with matrices, just as with vectors:\n",
      "Consider X: \n",
      "X     [,1] [,2]\n",
      "[1,]    1    2\n",
      "[2,]    2    3\n",
      "[3,]    3    4\n",
      "Consider the filter predicate:"
     ]
    },
    {
     "data": {
      "text/html": [
       "<ol class=list-inline>\n",
       "\t<li>FALSE</li>\n",
       "\t<li>TRUE</li>\n",
       "\t<li>TRUE</li>\n",
       "</ol>\n"
      ],
      "text/latex": [
       "\\begin{enumerate*}\n",
       "\\item FALSE\n",
       "\\item TRUE\n",
       "\\item TRUE\n",
       "\\end{enumerate*}\n"
      ],
      "text/markdown": [
       "1. FALSE\n",
       "2. TRUE\n",
       "3. TRUE\n",
       "\n",
       "\n"
      ],
      "text/plain": [
       "[1] FALSE  TRUE  TRUE"
      ]
     },
     "metadata": {},
     "output_type": "display_data"
    },
    {
     "name": "stdout",
     "output_type": "stream",
     "text": [
      "What is the output of X[X[,2] >= 3,]?\n",
      "X[X[, 2] >= 3, ]     [,1] [,2]\n",
      "[1,]    2    3\n",
      "[2,]    3    4\n"
     ]
    }
   ],
   "source": [
    "cat(\"Filtering can be done with matrices, just as with vectors:\\n\")\n",
    "cat(\"Consider X: \\n\")\n",
    "X = cbind(1:3,2:4); vPrint(X)\n",
    "cat(\"Consider the filter predicate:\")\n",
    "X[,2] >= 3\n",
    "cat(\"What is the output of X[X[,2] >= 3,]?\\n\")\n",
    "vPrint(X[X[,2] >= 3,])"
   ]
  },
  {
   "cell_type": "code",
   "execution_count": 17,
   "metadata": {},
   "outputs": [
    {
     "name": "stdout",
     "output_type": "stream",
     "text": [
      "Consider M:\n",
      "M     [,1] [,2]\n",
      "[1,]    1    4\n",
      "[2,]    2    5\n",
      "[3,]    3    6\n",
      "What is A when A = M[M[,1] > 1 & M[,2] > 5,]\n",
      "Dissecting M column 1 is M[,1] is:\n",
      "M[, 1, drop = F]     [,1]\n",
      "[1,]    1\n",
      "[2,]    2\n",
      "[3,]    3\n",
      "as a conditional M[,1] > 1 we have:\n",
      "M[, 1, drop = F] > 1      [,1]\n",
      "[1,] FALSE\n",
      "[2,]  TRUE\n",
      "[3,]  TRUE\n",
      "as a conditional M[,2] > 5 we have:\n",
      "M[, 2, drop = F] > 5      [,1]\n",
      "[1,] FALSE\n",
      "[2,] FALSE\n",
      "[3,]  TRUE\n",
      "Anding Both Condition we have\n",
      "M[, 1, drop = F] > 1 & M[, 2, drop = F] > 5      [,1]\n",
      "[1,] FALSE\n",
      "[2,] FALSE\n",
      "[3,]  TRUE\n",
      "So now we have the vector that selects the rows of M\n",
      "FALSE FALSE TRUE \n",
      "So A gets the last row of M\n"
     ]
    },
    {
     "data": {
      "text/html": [
       "<ol class=list-inline>\n",
       "\t<li>3</li>\n",
       "\t<li>6</li>\n",
       "</ol>\n"
      ],
      "text/latex": [
       "\\begin{enumerate*}\n",
       "\\item 3\n",
       "\\item 6\n",
       "\\end{enumerate*}\n"
      ],
      "text/markdown": [
       "1. 3\n",
       "2. 6\n",
       "\n",
       "\n"
      ],
      "text/plain": [
       "[1] 3 6"
      ]
     },
     "metadata": {},
     "output_type": "display_data"
    },
    {
     "name": "stdout",
     "output_type": "stream",
     "text": [
      "is.matrix(A):  FALSE"
     ]
    }
   ],
   "source": [
    "cat(\"Consider M:\\n\")\n",
    "M = matrix(1:6, nrow=3); vPrint(M)\n",
    "cat(\"What is A when A = M[M[,1] > 1 & M[,2] > 5,]\\n\")\n",
    "cat(\"Dissecting M column 1 is M[,1] is:\\n\")\n",
    "vPrint(M[,1,drop=F])\n",
    "cat(\"as a conditional M[,1] > 1 we have:\\n\")\n",
    "vPrint(M[,1,drop=F] > 1)\n",
    "cat(\"as a conditional M[,2] > 5 we have:\\n\")\n",
    "vPrint(M[,2,drop=F] > 5)\n",
    "cat(\"Anding Both Condition we have\\n\")\n",
    "vPrint(M[,1,drop=F] > 1 & M[,2,drop=F] > 5)\n",
    "cat(\"So now we have the vector that selects the rows of M\\n\")\n",
    "cat(M[,1] > 1 & M[,2] > 5, \"\\n\")\n",
    "cat(\"So A gets the last row of M\\n\")\n",
    "A = M[M[,1] > 1 & M[,2] > 5,]; A\n",
    "cat(\"is.matrix(A): \", is.matrix(A))"
   ]
  },
  {
   "cell_type": "code",
   "execution_count": 18,
   "metadata": {},
   "outputs": [
    {
     "name": "stdout",
     "output_type": "stream",
     "text": [
      "Given M:\n",
      "M     [,1] [,2]\n",
      "[1,]    5   -1\n",
      "[2,]    2   10\n",
      "[3,]    9   11\n",
      "which(M > 2) asks which INDICES in M are > 2. They are:  1 3 5 6 \n",
      "if M vectorized is  5 2 9 -1 10 11 \n",
      "then the values of M where the condition is met are M[which(M > 2)] 5 9 10 11 \n"
     ]
    }
   ],
   "source": [
    "cat(\"Given M:\\n\")\n",
    "M = cbind(c(5,2,9),c(-1,10,11)); vPrint(M)\n",
    "cat(\"which(M > 2) asks which INDICES in M are > 2. They are: \", which(M>2), \"\\n\")\n",
    "cat(\"if M vectorized is \", as.vector(M), \"\\n\")\n",
    "cat(\"then the values of M where the condition is met are \")\n",
    "vPrint(M[which(M>2)])\n"
   ]
  },
  {
   "cell_type": "markdown",
   "metadata": {},
   "source": [
    "## EXAM Question - Matrix Overlay"
   ]
  },
  {
   "cell_type": "code",
   "execution_count": 19,
   "metadata": {},
   "outputs": [
    {
     "name": "stdout",
     "output_type": "stream",
     "text": [
      "Y     [,1] [,2] [,3] [,4]\n",
      "[1,]    1    0    0    0\n",
      "[2,]    0    1    0    0\n",
      "[3,]    0    0    1    0\n",
      "[4,]    0    0    0    1\n",
      "X     [,1] [,2]\n",
      "[1,]    1    3\n",
      "[2,]    2    4\n",
      "Y     [,1] [,2] [,3] [,4]\n",
      "[1,]    1    3    1    3\n",
      "[2,]    0    1    0    0\n",
      "[3,]    0    0    1    0\n",
      "[4,]    2    4    2    4\n"
     ]
    }
   ],
   "source": [
    "Y = vIdentityMatrix(4); vPrint(Y)\n",
    "X = matrix(1:4,nrow=2); vPrint(X)\n",
    "Y[c(1,4),] = X # EXAM\n",
    "vPrint(Y)"
   ]
  },
  {
   "cell_type": "code",
   "execution_count": 20,
   "metadata": {},
   "outputs": [
    {
     "name": "stdout",
     "output_type": "stream",
     "text": [
      "X     [,1] [,2]\n",
      "[1,]    1    2\n",
      "[2,]    2    3\n",
      "[3,]    3    4\n"
     ]
    }
   ],
   "source": [
    "# Filtering Redux\n",
    "X = matrix(c(1,2,3,2,3,4), nrow=3); vPrint(X)"
   ]
  },
  {
   "cell_type": "code",
   "execution_count": 21,
   "metadata": {},
   "outputs": [
    {
     "data": {
      "text/html": [
       "<ol class=list-inline>\n",
       "\t<li>FALSE</li>\n",
       "\t<li>TRUE</li>\n",
       "\t<li>TRUE</li>\n",
       "</ol>\n"
      ],
      "text/latex": [
       "\\begin{enumerate*}\n",
       "\\item FALSE\n",
       "\\item TRUE\n",
       "\\item TRUE\n",
       "\\end{enumerate*}\n"
      ],
      "text/markdown": [
       "1. FALSE\n",
       "2. TRUE\n",
       "3. TRUE\n",
       "\n",
       "\n"
      ],
      "text/plain": [
       "[1] FALSE  TRUE  TRUE"
      ]
     },
     "metadata": {},
     "output_type": "display_data"
    }
   ],
   "source": [
    "X[,2] >= 3"
   ]
  },
  {
   "cell_type": "markdown",
   "metadata": {},
   "source": [
    "## Exam Question: Creating Selection Vectors with Predicates"
   ]
  },
  {
   "cell_type": "code",
   "execution_count": 22,
   "metadata": {},
   "outputs": [
    {
     "name": "stdout",
     "output_type": "stream",
     "text": [
      "X[X[, 2] >= 3, ]     [,1] [,2]\n",
      "[1,]    2    3\n",
      "[2,]    3    4\n"
     ]
    }
   ],
   "source": [
    "vPrint(X[X[,2] >= 3,]) # total exam question, go over the meaning of 3,"
   ]
  },
  {
   "cell_type": "markdown",
   "metadata": {},
   "source": [
    "## Slides 23-30: Apply\n",
    "<pre>\n",
    "-  apply(matrix, [rows=1,cols=2,both=c(1,2)], fun, optional arguments) # See below\n",
    "- tapply(vector, indices, fun, …) # apply a function over subsets of a vector\n",
    "- lapply(list, fun) # works on lists\n",
    "- sapply(list, fun) # works on lists, simplifying output\n",
    "- vapply(list, fun, mode) # like sapply, but you must specify type\n",
    "</pre>"
   ]
  },
  {
   "cell_type": "code",
   "execution_count": 23,
   "metadata": {},
   "outputs": [
    {
     "name": "stdout",
     "output_type": "stream",
     "text": [
      "Z     [,1] [,2]\n",
      "[1,]   10   40\n",
      "[2,]   20   50\n",
      "[3,]   30   60\n"
     ]
    }
   ],
   "source": [
    "Z = cbind(c(10,20,30),c(40,50,60)); vPrint(Z)"
   ]
  },
  {
   "cell_type": "code",
   "execution_count": 24,
   "metadata": {},
   "outputs": [
    {
     "data": {
      "text/html": [
       "<ol class=list-inline>\n",
       "\t<li>20</li>\n",
       "\t<li>50</li>\n",
       "</ol>\n"
      ],
      "text/latex": [
       "\\begin{enumerate*}\n",
       "\\item 20\n",
       "\\item 50\n",
       "\\end{enumerate*}\n"
      ],
      "text/markdown": [
       "1. 20\n",
       "2. 50\n",
       "\n",
       "\n"
      ],
      "text/plain": [
       "[1] 20 50"
      ]
     },
     "metadata": {},
     "output_type": "display_data"
    },
    {
     "data": {
      "text/html": [
       "<ol class=list-inline>\n",
       "\t<li>25</li>\n",
       "\t<li>35</li>\n",
       "\t<li>45</li>\n",
       "</ol>\n"
      ],
      "text/latex": [
       "\\begin{enumerate*}\n",
       "\\item 25\n",
       "\\item 35\n",
       "\\item 45\n",
       "\\end{enumerate*}\n"
      ],
      "text/markdown": [
       "1. 25\n",
       "2. 35\n",
       "3. 45\n",
       "\n",
       "\n"
      ],
      "text/plain": [
       "[1] 25 35 45"
      ]
     },
     "metadata": {},
     "output_type": "display_data"
    }
   ],
   "source": [
    "# apply(M, dimcode, f, args_of_f)\n",
    "apply(Z,2,mean) # take the mean of the columns\n",
    "apply(Z,1,mean) # take the mean of the rows"
   ]
  },
  {
   "cell_type": "code",
   "execution_count": 25,
   "metadata": {},
   "outputs": [
    {
     "data": {
      "text/html": [
       "<pre class=language-r><code>function (x) \n",
       "{\n",
       "<span style=white-space:pre-wrap>    x * c(1/2, 1/4)</span>\n",
       "}</code></pre>"
      ],
      "text/latex": [
       "\\begin{minted}{r}\n",
       "function (x) \n",
       "\\{\n",
       "    x * c(1/2, 1/4)\n",
       "\\}\n",
       "\\end{minted}"
      ],
      "text/markdown": [
       "```r\n",
       "function (x) \n",
       "{\n",
       "    x * c(1/2, 1/4)\n",
       "}\n",
       "```"
      ],
      "text/plain": [
       "function(x) { x*c(1/2,1/4) }"
      ]
     },
     "metadata": {},
     "output_type": "display_data"
    },
    {
     "data": {
      "text/html": [
       "<ol class=list-inline>\n",
       "\t<li>0.5</li>\n",
       "\t<li>0.25</li>\n",
       "</ol>\n"
      ],
      "text/latex": [
       "\\begin{enumerate*}\n",
       "\\item 0.5\n",
       "\\item 0.25\n",
       "\\end{enumerate*}\n"
      ],
      "text/markdown": [
       "1. 0.5\n",
       "2. 0.25\n",
       "\n",
       "\n"
      ],
      "text/plain": [
       "[1] 0.50 0.25"
      ]
     },
     "metadata": {},
     "output_type": "display_data"
    }
   ],
   "source": [
    "f = function(x) { x*c(1/2,1/4) };f # cool trick: naming a function prints it\n",
    "f(1)\n"
   ]
  },
  {
   "cell_type": "code",
   "execution_count": 26,
   "metadata": {},
   "outputs": [
    {
     "data": {
      "text/html": [
       "<table>\n",
       "<caption>A matrix: 3 × 2 of type dbl</caption>\n",
       "<tbody>\n",
       "\t<tr><td> 5</td><td>10.0</td></tr>\n",
       "\t<tr><td>10</td><td>12.5</td></tr>\n",
       "\t<tr><td>15</td><td>15.0</td></tr>\n",
       "</tbody>\n",
       "</table>\n"
      ],
      "text/latex": [
       "A matrix: 3 × 2 of type dbl\n",
       "\\begin{tabular}{ll}\n",
       "\t  5 & 10.0\\\\\n",
       "\t 10 & 12.5\\\\\n",
       "\t 15 & 15.0\\\\\n",
       "\\end{tabular}\n"
      ],
      "text/markdown": [
       "\n",
       "A matrix: 3 × 2 of type dbl\n",
       "\n",
       "|  5 | 10.0 |\n",
       "| 10 | 12.5 |\n",
       "| 15 | 15.0 |\n",
       "\n"
      ],
      "text/plain": [
       "     [,1] [,2]\n",
       "[1,]  5   10.0\n",
       "[2,] 10   12.5\n",
       "[3,] 15   15.0"
      ]
     },
     "metadata": {},
     "output_type": "display_data"
    }
   ],
   "source": [
    "# looks like a dot product when you transpose it!\n",
    "Y = t(apply(Z,1,f)); Y # Apply fills the result columnwise into dimcode=ROWS"
   ]
  },
  {
   "cell_type": "code",
   "execution_count": 27,
   "metadata": {},
   "outputs": [
    {
     "name": "stdout",
     "output_type": "stream",
     "text": [
      "Y == t(t(Y))     [,1] [,2]\n",
      "[1,] TRUE TRUE\n",
      "[2,] TRUE TRUE\n",
      "[3,] TRUE TRUE\n"
     ]
    }
   ],
   "source": [
    "vPrint(Y == t(t(Y)))"
   ]
  },
  {
   "cell_type": "code",
   "execution_count": 28,
   "metadata": {},
   "outputs": [
    {
     "name": "stdout",
     "output_type": "stream",
     "text": [
      "Z     [,1] [,2]\n",
      "[1,]   10   40\n",
      "[2,]   20   50\n",
      "[3,]   30   60\n",
      "f(c(1, 2)) 2 6 \n",
      "c(1, 2) * c(2, 3) 2 6 \n",
      "c(1, 2)/c(2, 3) 0.5 0.666666666666667 \n",
      "c(1:3) * Z     [,1] [,2]\n",
      "[1,]   10   40\n",
      "[2,]   40  100\n",
      "[3,]   90  180\n",
      "Z * c(1:3)     [,1] [,2]\n",
      "[1,]   10   40\n",
      "[2,]   40  100\n",
      "[3,]   90  180\n"
     ]
    }
   ],
   "source": [
    "vPrint(Z)\n",
    "f = function(U) U*c(2,3) # U can be a scalar, vector or Matrix\n",
    "vPrint(f(c(1,2)))\n",
    "vPrint(c(1,2)*c(2,3)) # this is a vector termwise multiply\n",
    "vPrint(c(1,2)/c(2,3))\n",
    "vPrint(c(1:3)*Z)\n",
    "vPrint(Z*c(1:3))\n",
    "# this flattens Z, then alternates multiplying its elements by 1 and 2 respectively\n",
    "# the termwise products appear commutative!"
   ]
  },
  {
   "cell_type": "code",
   "execution_count": 29,
   "metadata": {},
   "outputs": [
    {
     "name": "stdout",
     "output_type": "stream",
     "text": [
      "Z     [,1] [,2]\n",
      "[1,]   10   40\n",
      "[2,]   20   50\n",
      "[3,]   30   60\n"
     ]
    },
    {
     "name": "stderr",
     "output_type": "stream",
     "text": [
      "Warning message in X/c(2, 8):\n",
      "“longer object length is not a multiple of shorter object length”\n",
      "Warning message in X/c(2, 8):\n",
      "“longer object length is not a multiple of shorter object length”\n"
     ]
    },
    {
     "data": {
      "text/html": [
       "<table>\n",
       "<caption>A matrix: 3 × 2 of type dbl</caption>\n",
       "<tbody>\n",
       "\t<tr><td> 5.0</td><td>20.00</td></tr>\n",
       "\t<tr><td> 2.5</td><td> 6.25</td></tr>\n",
       "\t<tr><td>15.0</td><td>30.00</td></tr>\n",
       "</tbody>\n",
       "</table>\n"
      ],
      "text/latex": [
       "A matrix: 3 × 2 of type dbl\n",
       "\\begin{tabular}{ll}\n",
       "\t  5.0 & 20.00\\\\\n",
       "\t  2.5 &  6.25\\\\\n",
       "\t 15.0 & 30.00\\\\\n",
       "\\end{tabular}\n"
      ],
      "text/markdown": [
       "\n",
       "A matrix: 3 × 2 of type dbl\n",
       "\n",
       "|  5.0 | 20.00 |\n",
       "|  2.5 |  6.25 |\n",
       "| 15.0 | 30.00 |\n",
       "\n"
      ],
      "text/plain": [
       "     [,1] [,2] \n",
       "[1,]  5.0 20.00\n",
       "[2,]  2.5  6.25\n",
       "[3,] 15.0 30.00"
      ]
     },
     "metadata": {},
     "output_type": "display_data"
    },
    {
     "name": "stdout",
     "output_type": "stream",
     "text": [
      "the termwise looks like:\n",
      "cbind(c(2, 8, 2), c(2, 8, 2))     [,1] [,2]\n",
      "[1,]    2    2\n",
      "[2,]    8    8\n",
      "[3,]    2    2\n",
      "Z/cbind(c(2, 8, 2), c(2, 8, 2))     [,1]  [,2]\n",
      "[1,]  5.0 20.00\n",
      "[2,]  2.5  6.25\n",
      "[3,] 15.0 30.00\n"
     ]
    }
   ],
   "source": [
    "vPrint(Z)\n",
    "f = function(X) X/c(2,8)\n",
    "apply(Z,2,f) # denominator becomes (2,8,2) and recycling yuck\n",
    "cat(\"the termwise looks like:\\n\")\n",
    "vPrint(cbind(c(2,8,2),c(2,8,2)))\n",
    "vPrint(Z/cbind(c(2,8,2),c(2,8,2)))"
   ]
  },
  {
   "cell_type": "markdown",
   "metadata": {},
   "source": [
    "### Look at apply as being a \"flattening, termwise, replicator\" <br>that gives you the transpose only when processing rows.\n"
   ]
  },
  {
   "cell_type": "code",
   "execution_count": 30,
   "metadata": {},
   "outputs": [
    {
     "name": "stdout",
     "output_type": "stream",
     "text": [
      "X     [,1] [,2] [,3] [,4] [,5]\n",
      "[1,]    1    0    1    1    0\n",
      "[2,]    1    1    1    1    0\n",
      "[3,]    1    0    0    1    1\n",
      "[4,]    0    1    1    1    0\n",
      "result     [,1] [,2] [,3] [,4] [,5]\n",
      "[1,]    1    1    1    1    1\n",
      "[2,]    1    1    1    1    1\n",
      "[3,]    1    1    1    1    1\n",
      "[4,]    0    1    1    1    1\n"
     ]
    }
   ],
   "source": [
    "# copymaj example\n",
    "X = cbind(c(1,1,1,0),c(0,1,0,1),c(1,1,0,1),c(1,1,1,1),c(0,0,1,0)); vPrint(X)\n",
    "copymaj = function(U,d) { if( mean(U[1:d])) 1 else 0}\n",
    "result = \n",
    "    cbind(\n",
    "        as.matrix(apply(X,1,copymaj,1)),\n",
    "        as.matrix(apply(X,1,copymaj,2)),\n",
    "        as.matrix(apply(X,1,copymaj,3)),\n",
    "        as.matrix(apply(X,1,copymaj,4)),\n",
    "        as.matrix(apply(X,1,copymaj,5))\n",
    "    )\n",
    "vPrint(result)"
   ]
  },
  {
   "cell_type": "markdown",
   "metadata": {},
   "source": [
    "## Slides 35-39: Adding and Deleting Matrix Rows and Columns"
   ]
  },
  {
   "cell_type": "markdown",
   "metadata": {},
   "source": [
    "### Recall reassigning vectors to change their size:"
   ]
  },
  {
   "cell_type": "code",
   "execution_count": 31,
   "metadata": {},
   "outputs": [
    {
     "name": "stdout",
     "output_type": "stream",
     "text": [
      "x 1 2 3 \n",
      "x 1 2 3 4 5 6 \n"
     ]
    }
   ],
   "source": [
    "x = c(1, 2, 3); vPrint(x)\n",
    "x = c(x, 4, 5, 6); vPrint(x)"
   ]
  },
  {
   "cell_type": "markdown",
   "metadata": {},
   "source": [
    "### We can use rbind() and cbind() to add rows or columns to matrices."
   ]
  },
  {
   "cell_type": "code",
   "execution_count": 32,
   "metadata": {},
   "outputs": [
    {
     "name": "stdout",
     "output_type": "stream",
     "text": [
      "M     [,1] [,2]\n",
      "[1,]    1    3\n",
      "[2,]    2    4\n",
      "M     [,1] [,2]\n",
      "[1,]    1    3\n",
      "[2,]    2    4\n",
      "[3,]    3    6\n",
      "M     [,1] [,2] [,3]\n",
      "[1,]    1    3    7\n",
      "[2,]    2    4    8\n",
      "[3,]    3    6    9\n",
      "M     [,1] [,2] [,3]\n",
      "[1,]    1    4    7\n",
      "[2,]    2    5    8\n",
      "[3,]    3    6    9\n"
     ]
    }
   ],
   "source": [
    "M = matrix(1:4, nrow = 2); vPrint(M)\n",
    "M = rbind(M, c(3,6)); vPrint(M)\n",
    "M = cbind(M, 7:9); vPrint(M)\n",
    "M[,2] = 4:6; vPrint(M)"
   ]
  },
  {
   "cell_type": "markdown",
   "metadata": {},
   "source": [
    "### We can create small matrices with rbind and cbind"
   ]
  },
  {
   "cell_type": "code",
   "execution_count": 33,
   "metadata": {},
   "outputs": [
    {
     "name": "stdout",
     "output_type": "stream",
     "text": [
      "M     [,1] [,2]\n",
      "[1,]    1    2\n",
      "[2,]    3    4\n",
      "M     [,1] [,2]\n",
      "[1,]    1    3\n",
      "[2,]    2    4\n"
     ]
    }
   ],
   "source": [
    "M = rbind(c(1,2),c(3,4)); vPrint(M) # row ordered\n",
    "M = cbind(c(1,2),c(3,4)); vPrint(M) # col ordered"
   ]
  },
  {
   "cell_type": "markdown",
   "metadata": {},
   "source": [
    "#### Passing note: It is better to allocate big matrices all at once."
   ]
  },
  {
   "cell_type": "markdown",
   "metadata": {},
   "source": [
    "### We can delete rows and columns by reassignment."
   ]
  },
  {
   "cell_type": "code",
   "execution_count": 34,
   "metadata": {},
   "outputs": [
    {
     "name": "stdout",
     "output_type": "stream",
     "text": [
      "M     [,1] [,2] [,3]\n",
      "[1,]    1    4    7\n",
      "[2,]    2    5    8\n",
      "[3,]    3    6    9\n",
      "M     [,1] [,2] [,3]\n",
      "[1,]    1    4    7\n",
      "[2,]    2    5    8\n",
      "M     [,1] [,2]\n",
      "[1,]    1    4\n",
      "[2,]    2    5\n"
     ]
    }
   ],
   "source": [
    "M = matrix(1:9,nrow=3); vPrint(M)\n",
    "M = M[1:2,]; vPrint(M)\n",
    "M = M[,1:2]; vPrint(M)"
   ]
  },
  {
   "cell_type": "markdown",
   "metadata": {},
   "source": [
    "### and powerfully by negative subscripts"
   ]
  },
  {
   "cell_type": "code",
   "execution_count": 35,
   "metadata": {},
   "outputs": [
    {
     "name": "stdout",
     "output_type": "stream",
     "text": [
      "M     [,1] [,2] [,3]\n",
      "[1,]    1    4    7\n",
      "[2,]    2    5    8\n",
      "[3,]    3    6    9\n",
      "M     [,1] [,2] [,3]\n",
      "[1,]    1    4    7\n",
      "[2,]    3    6    9\n",
      "M     [,1] [,2]\n",
      "[1,]    1    7\n",
      "[2,]    3    9\n"
     ]
    }
   ],
   "source": [
    "M = matrix(1:9,nrow=3); vPrint(M)\n",
    "M = M[-2,  ]; vPrint(M)\n",
    "M = M[  ,-2]; vPrint(M)"
   ]
  },
  {
   "cell_type": "markdown",
   "metadata": {},
   "source": [
    "## Slides 40-42: Avoiding Unintended Dimension Reduction\n",
    "- Degeneration from matrix to vector type."
   ]
  },
  {
   "cell_type": "code",
   "execution_count": 36,
   "metadata": {},
   "outputs": [
    {
     "name": "stdout",
     "output_type": "stream",
     "text": [
      "Z     [,1] [,2] [,3]\n",
      "[1,]    1    1    1\n",
      "[2,]    2    1    0\n",
      "[3,]    3    0    1\n",
      "[4,]    4    0    0\n",
      "Z 1 2 3 4 \n",
      "dim(Z) is"
     ]
    },
    {
     "data": {
      "text/plain": [
       "NULL"
      ]
     },
     "metadata": {},
     "output_type": "display_data"
    },
    {
     "name": "stdout",
     "output_type": "stream",
     "text": [
      "is.matrix(Z) is FALSE \n",
      "class(Z) is numeric \n"
     ]
    }
   ],
   "source": [
    "# Check type of matrix with dim(), class() and is.matrix()\n",
    "Z = matrix(c(1,2,3,4,1,1,0,0,1,0,1,0),nrow=4); vPrint(Z) # generate matrix\n",
    "Z = Z[,-2:-3]; vPrint(Z)                                 # loses rank of matrix and demoted to vector\n",
    "cat(\"dim(Z) is\"); dim(Z);                                # NULL won't print inside cat()! this is a bug\n",
    "cat(\"is.matrix(Z) is\", is.matrix(Z), \"\\n\")\n",
    "cat(\"class(Z) is\", class(Z), \"\\n\")"
   ]
  },
  {
   "cell_type": "code",
   "execution_count": 37,
   "metadata": {},
   "outputs": [
    {
     "name": "stdout",
     "output_type": "stream",
     "text": [
      "Z     [,1] [,2] [,3]\n",
      "[1,]    1    1    1\n",
      "[2,]    2    1    0\n",
      "[3,]    3    0    1\n",
      "[4,]    4    0    0\n",
      "Z     [,1]\n",
      "[1,]    1\n",
      "[2,]    2\n",
      "[3,]    3\n",
      "[4,]    4\n",
      "is.matrix(Z)  TRUE \n"
     ]
    }
   ],
   "source": [
    "# Method 1: Preservation of rank with drop=FALSE\n",
    "Z = matrix(c(1,2,3,4,1,1,0,0,1,0,1,0),nrow=4); vPrint(Z) # generate matrix\n",
    "Z = Z[,-2:-3, drop=F]; vPrint(Z)                         # drop=F preserved matrix\n",
    "cat(\"is.matrix(Z) \",is.matrix(Z), \"\\n\")"
   ]
  },
  {
   "cell_type": "code",
   "execution_count": 38,
   "metadata": {
    "scrolled": false
   },
   "outputs": [
    {
     "name": "stdout",
     "output_type": "stream",
     "text": [
      "Z     [,1] [,2] [,3]\n",
      "[1,]    1    1    1\n",
      "[2,]    2    1    0\n",
      "[3,]    3    0    1\n",
      "[4,]    4    0    0\n",
      "Z 1 2 3 4 \n",
      "is.matrix(Z) is FALSE \n",
      "Z = as.matrix(Z)\n",
      "Z     [,1]\n",
      "[1,]    1\n",
      "[2,]    2\n",
      "[3,]    3\n",
      "[4,]    4\n",
      "is.matrix(Z)  TRUE \n"
     ]
    }
   ],
   "source": [
    "# Method 2: Reinstatment of lost rank using as.matrix()\n",
    "Z = matrix(c(1,2,3,4,1,1,0,0,1,0,1,0),nrow=4); vPrint(Z) # generate matrix\n",
    "Z = Z[,-2:-3]; vPrint(Z)                                 # loses rank of matrix and demoted to vector\n",
    "cat(\"is.matrix(Z) is\", is.matrix(Z), \"\\n\")\n",
    "cat(\"Z = as.matrix(Z)\\n\")\n",
    "Z = as.matrix(Z)                                         # reinstatement of rank                             \n",
    "vPrint(Z)\n",
    "cat(\"is.matrix(Z) \", is.matrix(Z), \"\\n\")"
   ]
  },
  {
   "cell_type": "markdown",
   "metadata": {},
   "source": [
    "## Slides 43: Fetching Object Attributes"
   ]
  },
  {
   "cell_type": "code",
   "execution_count": 39,
   "metadata": {},
   "outputs": [
    {
     "name": "stdout",
     "output_type": "stream",
     "text": [
      "v 1 2 3 4 5 6 7 8 9 10 \n",
      "attributes(v): "
     ]
    },
    {
     "data": {
      "text/plain": [
       "NULL"
      ]
     },
     "metadata": {},
     "output_type": "display_data"
    },
    {
     "name": "stdout",
     "output_type": "stream",
     "text": [
      "M     [,1] [,2] [,3]\n",
      "[1,]    1    4    7\n",
      "[2,]    2    5    8\n",
      "[3,]    3    6    9\n",
      "attributes(M): "
     ]
    },
    {
     "data": {
      "text/html": [
       "<strong>$dim</strong> = <ol class=list-inline>\n",
       "\t<li>3</li>\n",
       "\t<li>3</li>\n",
       "</ol>\n"
      ],
      "text/latex": [
       "\\textbf{\\$dim} = \\begin{enumerate*}\n",
       "\\item 3\n",
       "\\item 3\n",
       "\\end{enumerate*}\n"
      ],
      "text/markdown": [
       "**$dim** = 1. 3\n",
       "2. 3\n",
       "\n",
       "\n"
      ],
      "text/plain": [
       "$dim\n",
       "[1] 3 3\n"
      ]
     },
     "metadata": {},
     "output_type": "display_data"
    },
    {
     "name": "stdout",
     "output_type": "stream",
     "text": [
      "nrow(M):  3 \n",
      "ncol(M):  3 \n"
     ]
    }
   ],
   "source": [
    "v = c(1:10); vPrint(v)\n",
    "cat(\"attributes(v): \"); attributes(v)\n",
    "M = matrix(1:9, nrow=3); vPrint(M)\n",
    "cat(\"attributes(M): \"); attributes(M)\n",
    "cat(\"nrow(M): \", nrow(M), \"\\n\");\n",
    "cat(\"ncol(M): \", ncol(M), \"\\n\");"
   ]
  },
  {
   "cell_type": "code",
   "execution_count": null,
   "metadata": {},
   "outputs": [],
   "source": []
  }
 ],
 "metadata": {
  "kernelspec": {
   "display_name": "R",
   "language": "R",
   "name": "ir"
  },
  "language_info": {
   "codemirror_mode": "r",
   "file_extension": ".r",
   "mimetype": "text/x-r-source",
   "name": "R",
   "pygments_lexer": "r",
   "version": "3.6.1"
  }
 },
 "nbformat": 4,
 "nbformat_minor": 2
}
