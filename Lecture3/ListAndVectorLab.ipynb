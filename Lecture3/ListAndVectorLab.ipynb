{
 "cells": [
  {
   "cell_type": "markdown",
   "metadata": {},
   "source": [
    "## Programming in 'R'\n",
    "<pre>\n",
    "Prof. Mary Yang\n",
    "IFSC 5399-04\n",
    "</pre>\n",
    "### List and Vector Lab\n",
    "<pre>\n",
    "Author: L. Van Warren\n",
    "Date: Feb 2, 2020\n",
    "</pre>\n",
    "Lab Performed Using Jupyter Notebooks"
   ]
  },
  {
   "cell_type": "code",
   "execution_count": 1,
   "metadata": {},
   "outputs": [],
   "source": [
    "# List and Vector Lab\n",
    "# Author: L. Van Warren\n",
    "# Date: Feb 2, 2020"
   ]
  },
  {
   "cell_type": "code",
   "execution_count": 2,
   "metadata": {},
   "outputs": [],
   "source": [
    "# Van formatting library, functions prefixed with 'v', usually in vFun.R\n",
    "vPrintMatrix = function(U)\n",
    "{\n",
    "    if(!is.matrix(U)) { warning(\"vPrintMatrix(U): argument U is not a Matrix.\") }\n",
    "    cat(deparse(substitute(U)));\n",
    "    prmatrix(U,quote=F,right=T)\n",
    "}\n",
    "\n",
    "vPrintLabelAndVector = function(label, U)\n",
    "{\n",
    "    if(!is.vector(U)) { warning(\"vPrintVector(U): argument U is not a Vector.\") }\n",
    "    cat(label, noquote(paste(U)),'\\n');\n",
    "}\n",
    "\n",
    "vPrintLabelAndMatrix = function(label, U)\n",
    "{\n",
    "    if(!is.matrix(U)) { warning(\"vPrintMatrix(U): argument U is not a Matrix.\") }\n",
    "    cat(label);\n",
    "    prmatrix(U,quote=F,right=T)\n",
    "}\n",
    "\n",
    "vPrint = function(U)\n",
    "{\n",
    "    label = deparse(substitute(U))\n",
    "    if(is.vector(U)) { vPrintLabelAndVector(label, U) }\n",
    "    if(is.matrix(U)) { vPrintLabelAndMatrix(label, U) }\n",
    "}\n",
    "\n",
    "vComment = function(U)\n",
    "{\n",
    "    cat(U, \"\\n\");\n",
    "}"
   ]
  },
  {
   "cell_type": "markdown",
   "metadata": {},
   "source": [
    "### Vector Exercise 1"
   ]
  },
  {
   "cell_type": "code",
   "execution_count": 3,
   "metadata": {},
   "outputs": [
    {
     "name": "stdout",
     "output_type": "stream",
     "text": [
      "a 1 5 4 3 6 \n",
      "b 3 5 2 1 9 \n"
     ]
    },
    {
     "data": {
      "text/html": [
       "<ol class=list-inline>\n",
       "\t<li>TRUE</li>\n",
       "\t<li>TRUE</li>\n",
       "\t<li>FALSE</li>\n",
       "\t<li>FALSE</li>\n",
       "\t<li>TRUE</li>\n",
       "</ol>\n"
      ],
      "text/latex": [
       "\\begin{enumerate*}\n",
       "\\item TRUE\n",
       "\\item TRUE\n",
       "\\item FALSE\n",
       "\\item FALSE\n",
       "\\item TRUE\n",
       "\\end{enumerate*}\n"
      ],
      "text/markdown": [
       "1. TRUE\n",
       "2. TRUE\n",
       "3. FALSE\n",
       "4. FALSE\n",
       "5. TRUE\n",
       "\n",
       "\n"
      ],
      "text/plain": [
       "[1]  TRUE  TRUE FALSE FALSE  TRUE"
      ]
     },
     "metadata": {},
     "output_type": "display_data"
    }
   ],
   "source": [
    "# ============ Vector Exercise 1 ============\n",
    "a <- c(1,5,4,3,6); vPrint(a)\n",
    "b <- c(3,5,2,1,9); vPrint(b)\n",
    "# Boolean vector is true when a <= b\n",
    "a <= b"
   ]
  },
  {
   "cell_type": "markdown",
   "metadata": {},
   "source": [
    "### Vector Exercise 2"
   ]
  },
  {
   "cell_type": "code",
   "execution_count": 4,
   "metadata": {},
   "outputs": [
    {
     "name": "stdout",
     "output_type": "stream",
     "text": [
      "x 12 11 10 9 8 7 6 5 4 \n",
      "y 0 1 2 0 1 2 0 1 2 \n"
     ]
    },
    {
     "data": {
      "text/html": [
       "<ol class=list-inline>\n",
       "\t<li>1</li>\n",
       "\t<li>4</li>\n",
       "\t<li>7</li>\n",
       "</ol>\n"
      ],
      "text/latex": [
       "\\begin{enumerate*}\n",
       "\\item 1\n",
       "\\item 4\n",
       "\\item 7\n",
       "\\end{enumerate*}\n"
      ],
      "text/markdown": [
       "1. 1\n",
       "2. 4\n",
       "3. 7\n",
       "\n",
       "\n"
      ],
      "text/plain": [
       "[1] 1 4 7"
      ]
     },
     "metadata": {},
     "output_type": "display_data"
    },
    {
     "data": {
      "text/html": [
       "<ol class=list-inline>\n",
       "\t<li>0</li>\n",
       "\t<li>0</li>\n",
       "\t<li>0</li>\n",
       "</ol>\n"
      ],
      "text/latex": [
       "\\begin{enumerate*}\n",
       "\\item 0\n",
       "\\item 0\n",
       "\\item 0\n",
       "\\end{enumerate*}\n"
      ],
      "text/markdown": [
       "1. 0\n",
       "2. 0\n",
       "3. 0\n",
       "\n",
       "\n"
      ],
      "text/plain": [
       "[1] 0 0 0"
      ]
     },
     "metadata": {},
     "output_type": "display_data"
    },
    {
     "data": {
      "text/html": [
       "<ol class=list-inline>\n",
       "\t<li>12</li>\n",
       "\t<li>9</li>\n",
       "\t<li>6</li>\n",
       "</ol>\n"
      ],
      "text/latex": [
       "\\begin{enumerate*}\n",
       "\\item 12\n",
       "\\item 9\n",
       "\\item 6\n",
       "\\end{enumerate*}\n"
      ],
      "text/markdown": [
       "1. 12\n",
       "2. 9\n",
       "3. 6\n",
       "\n",
       "\n"
      ],
      "text/plain": [
       "[1] 12  9  6"
      ]
     },
     "metadata": {},
     "output_type": "display_data"
    }
   ],
   "source": [
    "# ============ Vector Exercise 2 ============\n",
    "x <- c(12:4); vPrint(x)\n",
    "y <- c(0,1,2,0,1,2,0,1,2); vPrint(y)\n",
    "# Print the INDICES of the vector y where y is non-zero and division is finite.\n",
    "which(!is.finite(x/y))\n",
    "# Print the VALUES  of the vector y where y is non-zero and division is finite.\n",
    "y[c(which(!is.finite(x/y)))]\n",
    "# Print the VALUES  of the vector x where y is non-zero and division is finite.\n",
    "x[c(which(!is.finite(x/y)))]"
   ]
  },
  {
   "cell_type": "markdown",
   "metadata": {},
   "source": [
    "### Vector Exercise 3"
   ]
  },
  {
   "cell_type": "code",
   "execution_count": 5,
   "metadata": {},
   "outputs": [
    {
     "name": "stdout",
     "output_type": "stream",
     "text": [
      "x 1 2 3 4 \n"
     ]
    },
    {
     "data": {
      "text/html": [
       "<ol class=list-inline>\n",
       "\t<li>TRUE</li>\n",
       "\t<li>TRUE</li>\n",
       "\t<li>TRUE</li>\n",
       "\t<li>TRUE</li>\n",
       "</ol>\n"
      ],
      "text/latex": [
       "\\begin{enumerate*}\n",
       "\\item TRUE\n",
       "\\item TRUE\n",
       "\\item TRUE\n",
       "\\item TRUE\n",
       "\\end{enumerate*}\n"
      ],
      "text/markdown": [
       "1. TRUE\n",
       "2. TRUE\n",
       "3. TRUE\n",
       "4. TRUE\n",
       "\n",
       "\n"
      ],
      "text/plain": [
       "[1] TRUE TRUE TRUE TRUE"
      ]
     },
     "metadata": {},
     "output_type": "display_data"
    },
    {
     "data": {
      "text/html": [
       "<ol class=list-inline>\n",
       "\t<li>TRUE</li>\n",
       "\t<li>TRUE</li>\n",
       "\t<li>TRUE</li>\n",
       "\t<li>TRUE</li>\n",
       "</ol>\n"
      ],
      "text/latex": [
       "\\begin{enumerate*}\n",
       "\\item TRUE\n",
       "\\item TRUE\n",
       "\\item TRUE\n",
       "\\item TRUE\n",
       "\\end{enumerate*}\n"
      ],
      "text/markdown": [
       "1. TRUE\n",
       "2. TRUE\n",
       "3. TRUE\n",
       "4. TRUE\n",
       "\n",
       "\n"
      ],
      "text/plain": [
       "[1] TRUE TRUE TRUE TRUE"
      ]
     },
     "metadata": {},
     "output_type": "display_data"
    },
    {
     "name": "stdout",
     "output_type": "stream",
     "text": [
      "k 3 4 5 6 \n",
      "k 3 4 5 6 \n",
      "h 3 4 5 6 \n"
     ]
    }
   ],
   "source": [
    "# ============ Vector Exercise 3 ============\n",
    "x <- c(1,2,3,4); vPrint(x)\n",
    "# Check x for missing values using !is.na(x)\")\n",
    "!is.na(x)\n",
    "# Check x for values greater than zero using predicate x > 0:\n",
    "x > 0\n",
    "# Add 2 to every value of x and save in k\")\n",
    "k = x+2; vPrint(k)\n",
    "# Run original expression: (x+2)[(!is.na(x)) & x > 0] -> k\n",
    "(x+2)[(!is.na(x)) & x > 0] -> k; vPrint(k)\n",
    "# Run simplified equivalent: h = x+2\n",
    "h = x+2\n",
    "vPrint(h)"
   ]
  },
  {
   "cell_type": "markdown",
   "metadata": {},
   "source": [
    "### Vector Exercise 4"
   ]
  },
  {
   "cell_type": "code",
   "execution_count": 6,
   "metadata": {},
   "outputs": [
    {
     "name": "stdout",
     "output_type": "stream",
     "text": [
      "x 2 4 6 8 \n",
      "y TRUE TRUE FALSE TRUE \n",
      "x[y] 2 4 8 \n",
      "sum(x[y]) 14 \n"
     ]
    }
   ],
   "source": [
    "# ============ Vector Exercise 4 ============\n",
    "x <- c(2, 4, 6, 8); vPrint(x)\n",
    "y <- c(TRUE, TRUE, FALSE, TRUE); vPrint(y)\n",
    "vPrint(x[y])\n",
    "vPrint(sum(x[y]))"
   ]
  },
  {
   "cell_type": "markdown",
   "metadata": {},
   "source": [
    "### Vector Exercise 5"
   ]
  },
  {
   "cell_type": "code",
   "execution_count": 7,
   "metadata": {},
   "outputs": [
    {
     "name": "stdout",
     "output_type": "stream",
     "text": [
      "x 34 56 55 87 NA 4 77 NA 21 NA 39 \n",
      "What is is.na(x) vector?"
     ]
    },
    {
     "data": {
      "text/html": [
       "<ol class=list-inline>\n",
       "\t<li>FALSE</li>\n",
       "\t<li>FALSE</li>\n",
       "\t<li>FALSE</li>\n",
       "\t<li>FALSE</li>\n",
       "\t<li>TRUE</li>\n",
       "\t<li>FALSE</li>\n",
       "\t<li>FALSE</li>\n",
       "\t<li>TRUE</li>\n",
       "\t<li>FALSE</li>\n",
       "\t<li>TRUE</li>\n",
       "\t<li>FALSE</li>\n",
       "</ol>\n"
      ],
      "text/latex": [
       "\\begin{enumerate*}\n",
       "\\item FALSE\n",
       "\\item FALSE\n",
       "\\item FALSE\n",
       "\\item FALSE\n",
       "\\item TRUE\n",
       "\\item FALSE\n",
       "\\item FALSE\n",
       "\\item TRUE\n",
       "\\item FALSE\n",
       "\\item TRUE\n",
       "\\item FALSE\n",
       "\\end{enumerate*}\n"
      ],
      "text/markdown": [
       "1. FALSE\n",
       "2. FALSE\n",
       "3. FALSE\n",
       "4. FALSE\n",
       "5. TRUE\n",
       "6. FALSE\n",
       "7. FALSE\n",
       "8. TRUE\n",
       "9. FALSE\n",
       "10. TRUE\n",
       "11. FALSE\n",
       "\n",
       "\n"
      ],
      "text/plain": [
       " [1] FALSE FALSE FALSE FALSE  TRUE FALSE FALSE  TRUE FALSE  TRUE FALSE"
      ]
     },
     "metadata": {},
     "output_type": "display_data"
    },
    {
     "name": "stdout",
     "output_type": "stream",
     "text": [
      "How many TRUE values in is.na(x) vector?sum(is.na(x)) 3 \n",
      "The statement which will count the number of NA values in x is:"
     ]
    },
    {
     "data": {
      "text/html": [
       "<strong>$c</strong> = 'sum(is.na(x))'"
      ],
      "text/latex": [
       "\\textbf{\\$c} = 'sum(is.na(x))'"
      ],
      "text/markdown": [
       "**$c** = 'sum(is.na(x))'"
      ],
      "text/plain": [
       "$c\n",
       "[1] \"sum(is.na(x))\"\n"
      ]
     },
     "metadata": {},
     "output_type": "display_data"
    }
   ],
   "source": [
    "# ============ Vector Exercise 5 ============\n",
    "x <- c(34, 56, 55, 87, NA, 4, 77, NA, 21, NA, 39); vPrint(x)\n",
    "cat(\"What is is.na(x) vector?\")\n",
    "is.na(x)\n",
    "cat(\"How many TRUE values in is.na(x) vector?\")\n",
    "vPrint(sum(is.na(x)))\n",
    "answers = list(a=\"count(is.na(X))\",\n",
    "               b=\"length(is.na(x))\",\n",
    "               c=\"sum(is.na(x))\",\n",
    "               d=\"count(!is.na(x))\",\n",
    "               e=\"sum(!is.na(x))\")\n",
    "cat(\"The statement which will count the number of NA values in x is:\")\n",
    "answers[which(answers %in% \"sum(is.na(x))\")]\n"
   ]
  },
  {
   "cell_type": "markdown",
   "metadata": {},
   "source": [
    "### List Exercise 1"
   ]
  },
  {
   "cell_type": "code",
   "execution_count": 8,
   "metadata": {},
   "outputs": [
    {
     "name": "stdout",
     "output_type": "stream",
     "text": [
      "p 2 7 8 \n",
      "q A B C \n",
      "x c(2, 7, 8) c(\"A\", \"B\", \"C\") \n",
      "x[2] c(\"A\", \"B\", \"C\") \n",
      "The value of x[2] is:"
     ]
    },
    {
     "data": {
      "text/html": [
       "<strong>$b</strong> = <ol class=list-inline>\n",
       "\t<li>'A'</li>\n",
       "\t<li>'B'</li>\n",
       "\t<li>'C'</li>\n",
       "</ol>\n"
      ],
      "text/latex": [
       "\\textbf{\\$b} = \\begin{enumerate*}\n",
       "\\item 'A'\n",
       "\\item 'B'\n",
       "\\item 'C'\n",
       "\\end{enumerate*}\n"
      ],
      "text/markdown": [
       "**$b** = 1. 'A'\n",
       "2. 'B'\n",
       "3. 'C'\n",
       "\n",
       "\n"
      ],
      "text/plain": [
       "$b\n",
       "[1] \"A\" \"B\" \"C\"\n"
      ]
     },
     "metadata": {},
     "output_type": "display_data"
    }
   ],
   "source": [
    "# ============ List Exercise 1 ============\n",
    "p <- c(2,7,8); vPrint(p)\n",
    "q <- c(\"A\", \"B\", \"C\"); vPrint(q)\n",
    "x <- list(p, q); vPrint(x)\n",
    "vPrint(x[2])\n",
    "answers = list(a=NULL,\n",
    "               b=c(\"A\", \"B\", \"C\"),\n",
    "               c=\"7\")\n",
    "cat(\"The value of x[2] is:\")\n",
    "answers[which(answers %in% x[2])]"
   ]
  },
  {
   "cell_type": "markdown",
   "metadata": {},
   "source": [
    "### List Exercise 2"
   ]
  },
  {
   "cell_type": "code",
   "execution_count": 9,
   "metadata": {},
   "outputs": [
    {
     "name": "stdout",
     "output_type": "stream",
     "text": [
      "w 2 7 8 \n",
      "v A B C \n"
     ]
    },
    {
     "data": {
      "text/html": [
       "<ol>\n",
       "\t<li><ol class=list-inline>\n",
       "\t<li>2</li>\n",
       "\t<li>7</li>\n",
       "\t<li>8</li>\n",
       "</ol>\n",
       "</li>\n",
       "\t<li><ol class=list-inline>\n",
       "\t<li>'A'</li>\n",
       "\t<li>'B'</li>\n",
       "\t<li>'C'</li>\n",
       "</ol>\n",
       "</li>\n",
       "</ol>\n"
      ],
      "text/latex": [
       "\\begin{enumerate}\n",
       "\\item \\begin{enumerate*}\n",
       "\\item 2\n",
       "\\item 7\n",
       "\\item 8\n",
       "\\end{enumerate*}\n",
       "\n",
       "\\item \\begin{enumerate*}\n",
       "\\item 'A'\n",
       "\\item 'B'\n",
       "\\item 'C'\n",
       "\\end{enumerate*}\n",
       "\n",
       "\\end{enumerate}\n"
      ],
      "text/markdown": [
       "1. 1. 2\n",
       "2. 7\n",
       "3. 8\n",
       "\n",
       "\n",
       "\n",
       "2. 1. 'A'\n",
       "2. 'B'\n",
       "3. 'C'\n",
       "\n",
       "\n",
       "\n",
       "\n",
       "\n"
      ],
      "text/plain": [
       "[[1]]\n",
       "[1] 2 7 8\n",
       "\n",
       "[[2]]\n",
       "[1] \"A\" \"B\" \"C\"\n"
      ]
     },
     "metadata": {},
     "output_type": "display_data"
    },
    {
     "data": {
      "text/html": [
       "<ol>\n",
       "\t<li><ol class=list-inline>\n",
       "\t<li>2</li>\n",
       "\t<li>7</li>\n",
       "\t<li>8</li>\n",
       "</ol>\n",
       "</li>\n",
       "\t<li><ol class=list-inline>\n",
       "\t<li>'K'</li>\n",
       "\t<li>'B'</li>\n",
       "\t<li>'C'</li>\n",
       "</ol>\n",
       "</li>\n",
       "</ol>\n"
      ],
      "text/latex": [
       "\\begin{enumerate}\n",
       "\\item \\begin{enumerate*}\n",
       "\\item 2\n",
       "\\item 7\n",
       "\\item 8\n",
       "\\end{enumerate*}\n",
       "\n",
       "\\item \\begin{enumerate*}\n",
       "\\item 'K'\n",
       "\\item 'B'\n",
       "\\item 'C'\n",
       "\\end{enumerate*}\n",
       "\n",
       "\\end{enumerate}\n"
      ],
      "text/markdown": [
       "1. 1. 2\n",
       "2. 7\n",
       "3. 8\n",
       "\n",
       "\n",
       "\n",
       "2. 1. 'K'\n",
       "2. 'B'\n",
       "3. 'C'\n",
       "\n",
       "\n",
       "\n",
       "\n",
       "\n"
      ],
      "text/plain": [
       "[[1]]\n",
       "[1] 2 7 8\n",
       "\n",
       "[[2]]\n",
       "[1] \"K\" \"B\" \"C\"\n"
      ]
     },
     "metadata": {},
     "output_type": "display_data"
    }
   ],
   "source": [
    "# ============ List Exercise 2 ============\n",
    "w <- c(2, 7, 8); vPrint(w)\n",
    "v <- c(\"A\", \"B\", \"C\"); vPrint(v)\n",
    "x <- list(w, v); x\n",
    "# Since vectors are immutable we must replace vector v\n",
    "x[[2]] = c(\"K\", \"B\", \"C\"); x"
   ]
  },
  {
   "cell_type": "markdown",
   "metadata": {},
   "source": [
    "### List Exercise 3"
   ]
  },
  {
   "cell_type": "code",
   "execution_count": 10,
   "metadata": {},
   "outputs": [
    {
     "name": "stdout",
     "output_type": "stream",
     "text": [
      "a 5 10 15 \n",
      "The statement which will give the sum of all elements in a is:"
     ]
    },
    {
     "data": {
      "text/html": [
       "<strong>$c</strong> = 'sum(unlist(a))'"
      ],
      "text/latex": [
       "\\textbf{\\$c} = 'sum(unlist(a))'"
      ],
      "text/markdown": [
       "**$c** = 'sum(unlist(a))'"
      ],
      "text/plain": [
       "$c\n",
       "[1] \"sum(unlist(a))\"\n"
      ]
     },
     "metadata": {},
     "output_type": "display_data"
    },
    {
     "data": {
      "text/html": [
       "30"
      ],
      "text/latex": [
       "30"
      ],
      "text/markdown": [
       "30"
      ],
      "text/plain": [
       "[1] 30"
      ]
     },
     "metadata": {},
     "output_type": "display_data"
    }
   ],
   "source": [
    "# ============ List Exercise 3 ============\n",
    "a <- list (\"x\"=5, \"y\"=10, \"z\"=15); vPrint(a)\n",
    "answers = list(a=\"sum(a)\",\n",
    "               b=\"sum(list(a))\",\n",
    "               c=\"sum(unlist(a))\")\n",
    "cat(\"The statement which will give the sum of all elements in a is:\")\n",
    "answers[which(answers %in% \"sum(unlist(a))\")]\n",
    "# Running this on the list gives a sum of: \"\n",
    "sum(unlist(a))"
   ]
  },
  {
   "cell_type": "markdown",
   "metadata": {},
   "source": [
    "### List Exercise 4"
   ]
  },
  {
   "cell_type": "code",
   "execution_count": 11,
   "metadata": {},
   "outputs": [
    {
     "data": {
      "text/html": [
       "<dl>\n",
       "\t<dt>$a</dt>\n",
       "\t\t<dd><ol class=list-inline>\n",
       "\t<li>1</li>\n",
       "\t<li>2</li>\n",
       "\t<li>3</li>\n",
       "\t<li>4</li>\n",
       "\t<li>5</li>\n",
       "\t<li>6</li>\n",
       "\t<li>7</li>\n",
       "\t<li>8</li>\n",
       "\t<li>9</li>\n",
       "\t<li>10</li>\n",
       "</ol>\n",
       "</dd>\n",
       "\t<dt>$b</dt>\n",
       "\t\t<dd>'Good morning'</dd>\n",
       "\t<dt>$c</dt>\n",
       "\t\t<dd>'Hi'</dd>\n",
       "</dl>\n"
      ],
      "text/latex": [
       "\\begin{description}\n",
       "\\item[\\$a] \\begin{enumerate*}\n",
       "\\item 1\n",
       "\\item 2\n",
       "\\item 3\n",
       "\\item 4\n",
       "\\item 5\n",
       "\\item 6\n",
       "\\item 7\n",
       "\\item 8\n",
       "\\item 9\n",
       "\\item 10\n",
       "\\end{enumerate*}\n",
       "\n",
       "\\item[\\$b] 'Good morning'\n",
       "\\item[\\$c] 'Hi'\n",
       "\\end{description}\n"
      ],
      "text/markdown": [
       "$a\n",
       ":   1. 1\n",
       "2. 2\n",
       "3. 3\n",
       "4. 4\n",
       "5. 5\n",
       "6. 6\n",
       "7. 7\n",
       "8. 8\n",
       "9. 9\n",
       "10. 10\n",
       "\n",
       "\n",
       "\n",
       "$b\n",
       ":   'Good morning'\n",
       "$c\n",
       ":   'Hi'\n",
       "\n",
       "\n"
      ],
      "text/plain": [
       "$a\n",
       " [1]  1  2  3  4  5  6  7  8  9 10\n",
       "\n",
       "$b\n",
       "[1] \"Good morning\"\n",
       "\n",
       "$c\n",
       "[1] \"Hi\"\n"
      ]
     },
     "metadata": {},
     "output_type": "display_data"
    },
    {
     "data": {
      "text/html": [
       "<dl>\n",
       "\t<dt>$a</dt>\n",
       "\t\t<dd><ol class=list-inline>\n",
       "\t<li>2</li>\n",
       "\t<li>3</li>\n",
       "\t<li>4</li>\n",
       "\t<li>5</li>\n",
       "\t<li>6</li>\n",
       "\t<li>7</li>\n",
       "\t<li>8</li>\n",
       "\t<li>9</li>\n",
       "\t<li>10</li>\n",
       "\t<li>11</li>\n",
       "</ol>\n",
       "</dd>\n",
       "\t<dt>$b</dt>\n",
       "\t\t<dd>'Good morning'</dd>\n",
       "\t<dt>$c</dt>\n",
       "\t\t<dd>'Hi'</dd>\n",
       "</dl>\n"
      ],
      "text/latex": [
       "\\begin{description}\n",
       "\\item[\\$a] \\begin{enumerate*}\n",
       "\\item 2\n",
       "\\item 3\n",
       "\\item 4\n",
       "\\item 5\n",
       "\\item 6\n",
       "\\item 7\n",
       "\\item 8\n",
       "\\item 9\n",
       "\\item 10\n",
       "\\item 11\n",
       "\\end{enumerate*}\n",
       "\n",
       "\\item[\\$b] 'Good morning'\n",
       "\\item[\\$c] 'Hi'\n",
       "\\end{description}\n"
      ],
      "text/markdown": [
       "$a\n",
       ":   1. 2\n",
       "2. 3\n",
       "3. 4\n",
       "4. 5\n",
       "5. 6\n",
       "6. 7\n",
       "7. 8\n",
       "8. 9\n",
       "9. 10\n",
       "10. 11\n",
       "\n",
       "\n",
       "\n",
       "$b\n",
       ":   'Good morning'\n",
       "$c\n",
       ":   'Hi'\n",
       "\n",
       "\n"
      ],
      "text/plain": [
       "$a\n",
       " [1]  2  3  4  5  6  7  8  9 10 11\n",
       "\n",
       "$b\n",
       "[1] \"Good morning\"\n",
       "\n",
       "$c\n",
       "[1] \"Hi\"\n"
      ]
     },
     "metadata": {},
     "output_type": "display_data"
    }
   ],
   "source": [
    "# ============ List Exercise 4 ============\n",
    "Newlist <- list(a=1:10, b=\"Good morning\", c=\"Hi\")\n",
    "Newlist\n",
    "Newlist$a = Newlist$a + 1 \n",
    "Newlist"
   ]
  },
  {
   "cell_type": "markdown",
   "metadata": {},
   "source": [
    "### List Exercise 5"
   ]
  },
  {
   "cell_type": "code",
   "execution_count": 12,
   "metadata": {},
   "outputs": [
    {
     "data": {
      "text/html": [
       "<ol class=list-inline>\n",
       "\t<li>1</li>\n",
       "\t<li>3</li>\n",
       "\t<li>4</li>\n",
       "\t<li>5</li>\n",
       "\t<li>6</li>\n",
       "\t<li>7</li>\n",
       "\t<li>8</li>\n",
       "\t<li>9</li>\n",
       "\t<li>10</li>\n",
       "</ol>\n"
      ],
      "text/latex": [
       "\\begin{enumerate*}\n",
       "\\item 1\n",
       "\\item 3\n",
       "\\item 4\n",
       "\\item 5\n",
       "\\item 6\n",
       "\\item 7\n",
       "\\item 8\n",
       "\\item 9\n",
       "\\item 10\n",
       "\\end{enumerate*}\n"
      ],
      "text/markdown": [
       "1. 1\n",
       "2. 3\n",
       "3. 4\n",
       "4. 5\n",
       "5. 6\n",
       "6. 7\n",
       "7. 8\n",
       "8. 9\n",
       "9. 10\n",
       "\n",
       "\n"
      ],
      "text/plain": [
       "[1]  1  3  4  5  6  7  8  9 10"
      ]
     },
     "metadata": {},
     "output_type": "display_data"
    }
   ],
   "source": [
    "# ============ List Exercise 5 ============\n",
    "b <- list(a=1:10, c=\"Hello\", d=\"AA\")\n",
    "b$a[c(1,3:10)]"
   ]
  },
  {
   "cell_type": "markdown",
   "metadata": {},
   "source": [
    "### List Exercise 6"
   ]
  },
  {
   "cell_type": "code",
   "execution_count": 13,
   "metadata": {},
   "outputs": [
    {
     "data": {
      "text/html": [
       "<dl>\n",
       "\t<dt>$a</dt>\n",
       "\t\t<dd><ol class=list-inline>\n",
       "\t<li>5</li>\n",
       "\t<li>6</li>\n",
       "\t<li>7</li>\n",
       "\t<li>8</li>\n",
       "\t<li>9</li>\n",
       "\t<li>10</li>\n",
       "</ol>\n",
       "</dd>\n",
       "\t<dt>$c</dt>\n",
       "\t\t<dd>'Hello'</dd>\n",
       "\t<dt>$d</dt>\n",
       "\t\t<dd>'AA'</dd>\n",
       "</dl>\n"
      ],
      "text/latex": [
       "\\begin{description}\n",
       "\\item[\\$a] \\begin{enumerate*}\n",
       "\\item 5\n",
       "\\item 6\n",
       "\\item 7\n",
       "\\item 8\n",
       "\\item 9\n",
       "\\item 10\n",
       "\\end{enumerate*}\n",
       "\n",
       "\\item[\\$c] 'Hello'\n",
       "\\item[\\$d] 'AA'\n",
       "\\end{description}\n"
      ],
      "text/markdown": [
       "$a\n",
       ":   1. 5\n",
       "2. 6\n",
       "3. 7\n",
       "4. 8\n",
       "5. 9\n",
       "6. 10\n",
       "\n",
       "\n",
       "\n",
       "$c\n",
       ":   'Hello'\n",
       "$d\n",
       ":   'AA'\n",
       "\n",
       "\n"
      ],
      "text/plain": [
       "$a\n",
       "[1]  5  6  7  8  9 10\n",
       "\n",
       "$c\n",
       "[1] \"Hello\"\n",
       "\n",
       "$d\n",
       "[1] \"AA\"\n"
      ]
     },
     "metadata": {},
     "output_type": "display_data"
    },
    {
     "data": {
      "text/html": [
       "<dl>\n",
       "\t<dt>$a</dt>\n",
       "\t\t<dd><ol class=list-inline>\n",
       "\t<li>5</li>\n",
       "\t<li>6</li>\n",
       "\t<li>7</li>\n",
       "\t<li>8</li>\n",
       "\t<li>9</li>\n",
       "\t<li>10</li>\n",
       "</ol>\n",
       "</dd>\n",
       "\t<dt>$c</dt>\n",
       "\t\t<dd>'Hello'</dd>\n",
       "\t<dt>$d</dt>\n",
       "\t\t<dd>'AA'</dd>\n",
       "\t<dt>$z</dt>\n",
       "\t\t<dd>'New Item'</dd>\n",
       "</dl>\n"
      ],
      "text/latex": [
       "\\begin{description}\n",
       "\\item[\\$a] \\begin{enumerate*}\n",
       "\\item 5\n",
       "\\item 6\n",
       "\\item 7\n",
       "\\item 8\n",
       "\\item 9\n",
       "\\item 10\n",
       "\\end{enumerate*}\n",
       "\n",
       "\\item[\\$c] 'Hello'\n",
       "\\item[\\$d] 'AA'\n",
       "\\item[\\$z] 'New Item'\n",
       "\\end{description}\n"
      ],
      "text/markdown": [
       "$a\n",
       ":   1. 5\n",
       "2. 6\n",
       "3. 7\n",
       "4. 8\n",
       "5. 9\n",
       "6. 10\n",
       "\n",
       "\n",
       "\n",
       "$c\n",
       ":   'Hello'\n",
       "$d\n",
       ":   'AA'\n",
       "$z\n",
       ":   'New Item'\n",
       "\n",
       "\n"
      ],
      "text/plain": [
       "$a\n",
       "[1]  5  6  7  8  9 10\n",
       "\n",
       "$c\n",
       "[1] \"Hello\"\n",
       "\n",
       "$d\n",
       "[1] \"AA\"\n",
       "\n",
       "$z\n",
       "[1] \"New Item\"\n"
      ]
     },
     "metadata": {},
     "output_type": "display_data"
    }
   ],
   "source": [
    "# ============ List Exercise 6 ============\n",
    "x <- list(a=5:10, c=\"Hello\", d=\"AA\")\n",
    "x\n",
    "x$z = \"New Item\"\n",
    "x"
   ]
  },
  {
   "cell_type": "markdown",
   "metadata": {},
   "source": [
    "### List Exercise 7"
   ]
  },
  {
   "cell_type": "code",
   "execution_count": 14,
   "metadata": {},
   "outputs": [
    {
     "data": {
      "text/html": [
       "<ol>\n",
       "\t<li>'a'</li>\n",
       "\t<li>'b'</li>\n",
       "\t<li>'c'</li>\n",
       "</ol>\n"
      ],
      "text/latex": [
       "\\begin{enumerate}\n",
       "\\item 'a'\n",
       "\\item 'b'\n",
       "\\item 'c'\n",
       "\\end{enumerate}\n"
      ],
      "text/markdown": [
       "1. 'a'\n",
       "2. 'b'\n",
       "3. 'c'\n",
       "\n",
       "\n"
      ],
      "text/plain": [
       "[[1]]\n",
       "[1] \"a\"\n",
       "\n",
       "[[2]]\n",
       "[1] \"b\"\n",
       "\n",
       "[[3]]\n",
       "[1] \"c\"\n"
      ]
     },
     "metadata": {},
     "output_type": "display_data"
    },
    {
     "data": {
      "text/html": [
       "<dl>\n",
       "\t<dt>$one</dt>\n",
       "\t\t<dd>'a'</dd>\n",
       "\t<dt>$two</dt>\n",
       "\t\t<dd>'b'</dd>\n",
       "\t<dt>$three</dt>\n",
       "\t\t<dd>'c'</dd>\n",
       "</dl>\n"
      ],
      "text/latex": [
       "\\begin{description}\n",
       "\\item[\\$one] 'a'\n",
       "\\item[\\$two] 'b'\n",
       "\\item[\\$three] 'c'\n",
       "\\end{description}\n"
      ],
      "text/markdown": [
       "$one\n",
       ":   'a'\n",
       "$two\n",
       ":   'b'\n",
       "$three\n",
       ":   'c'\n",
       "\n",
       "\n"
      ],
      "text/plain": [
       "$one\n",
       "[1] \"a\"\n",
       "\n",
       "$two\n",
       "[1] \"b\"\n",
       "\n",
       "$three\n",
       "[1] \"c\"\n"
      ]
     },
     "metadata": {},
     "output_type": "display_data"
    }
   ],
   "source": [
    "# ============ List Exercise 7 ============\n",
    "y <- list(\"a\", \"b\", \"c\")\n",
    "y\n",
    "names(y) = c(\"one\", \"two\", \"three\")\n",
    "y"
   ]
  },
  {
   "cell_type": "markdown",
   "metadata": {},
   "source": [
    "### List Exercise 8"
   ]
  },
  {
   "cell_type": "code",
   "execution_count": 15,
   "metadata": {},
   "outputs": [
    {
     "data": {
      "text/html": [
       "<dl>\n",
       "\t<dt>$y</dt>\n",
       "\t\t<dd><ol class=list-inline>\n",
       "\t<li>1</li>\n",
       "\t<li>2</li>\n",
       "\t<li>3</li>\n",
       "\t<li>4</li>\n",
       "\t<li>5</li>\n",
       "\t<li>6</li>\n",
       "\t<li>7</li>\n",
       "\t<li>8</li>\n",
       "\t<li>9</li>\n",
       "\t<li>10</li>\n",
       "</ol>\n",
       "</dd>\n",
       "\t<dt>$t</dt>\n",
       "\t\t<dd>'Hello'</dd>\n",
       "\t<dt>$f</dt>\n",
       "\t\t<dd>'TT'</dd>\n",
       "\t<dt>$r</dt>\n",
       "\t\t<dd><ol class=list-inline>\n",
       "\t<li>5</li>\n",
       "\t<li>6</li>\n",
       "\t<li>7</li>\n",
       "\t<li>8</li>\n",
       "\t<li>9</li>\n",
       "\t<li>10</li>\n",
       "\t<li>11</li>\n",
       "\t<li>12</li>\n",
       "\t<li>13</li>\n",
       "\t<li>14</li>\n",
       "\t<li>15</li>\n",
       "\t<li>16</li>\n",
       "\t<li>17</li>\n",
       "\t<li>18</li>\n",
       "\t<li>19</li>\n",
       "\t<li>20</li>\n",
       "</ol>\n",
       "</dd>\n",
       "</dl>\n"
      ],
      "text/latex": [
       "\\begin{description}\n",
       "\\item[\\$y] \\begin{enumerate*}\n",
       "\\item 1\n",
       "\\item 2\n",
       "\\item 3\n",
       "\\item 4\n",
       "\\item 5\n",
       "\\item 6\n",
       "\\item 7\n",
       "\\item 8\n",
       "\\item 9\n",
       "\\item 10\n",
       "\\end{enumerate*}\n",
       "\n",
       "\\item[\\$t] 'Hello'\n",
       "\\item[\\$f] 'TT'\n",
       "\\item[\\$r] \\begin{enumerate*}\n",
       "\\item 5\n",
       "\\item 6\n",
       "\\item 7\n",
       "\\item 8\n",
       "\\item 9\n",
       "\\item 10\n",
       "\\item 11\n",
       "\\item 12\n",
       "\\item 13\n",
       "\\item 14\n",
       "\\item 15\n",
       "\\item 16\n",
       "\\item 17\n",
       "\\item 18\n",
       "\\item 19\n",
       "\\item 20\n",
       "\\end{enumerate*}\n",
       "\n",
       "\\end{description}\n"
      ],
      "text/markdown": [
       "$y\n",
       ":   1. 1\n",
       "2. 2\n",
       "3. 3\n",
       "4. 4\n",
       "5. 5\n",
       "6. 6\n",
       "7. 7\n",
       "8. 8\n",
       "9. 9\n",
       "10. 10\n",
       "\n",
       "\n",
       "\n",
       "$t\n",
       ":   'Hello'\n",
       "$f\n",
       ":   'TT'\n",
       "$r\n",
       ":   1. 5\n",
       "2. 6\n",
       "3. 7\n",
       "4. 8\n",
       "5. 9\n",
       "6. 10\n",
       "7. 11\n",
       "8. 12\n",
       "9. 13\n",
       "10. 14\n",
       "11. 15\n",
       "12. 16\n",
       "13. 17\n",
       "14. 18\n",
       "15. 19\n",
       "16. 20\n",
       "\n",
       "\n",
       "\n",
       "\n",
       "\n"
      ],
      "text/plain": [
       "$y\n",
       " [1]  1  2  3  4  5  6  7  8  9 10\n",
       "\n",
       "$t\n",
       "[1] \"Hello\"\n",
       "\n",
       "$f\n",
       "[1] \"TT\"\n",
       "\n",
       "$r\n",
       " [1]  5  6  7  8  9 10 11 12 13 14 15 16 17 18 19 20\n"
      ]
     },
     "metadata": {},
     "output_type": "display_data"
    },
    {
     "data": {
      "text/html": [
       "16"
      ],
      "text/latex": [
       "16"
      ],
      "text/markdown": [
       "16"
      ],
      "text/plain": [
       "[1] 16"
      ]
     },
     "metadata": {},
     "output_type": "display_data"
    }
   ],
   "source": [
    "# ============ List Exercise 8 ============\n",
    "x <- list(y=1:10, t=\"Hello\", f=\"TT\", r=5:20)\n",
    "x\n",
    "length(x$r)"
   ]
  },
  {
   "cell_type": "markdown",
   "metadata": {},
   "source": [
    "### List Exercise 9"
   ]
  },
  {
   "cell_type": "code",
   "execution_count": 16,
   "metadata": {},
   "outputs": [
    {
     "data": {
      "text/html": [
       "<ol>\n",
       "\t<li>'Grand'</li>\n",
       "\t<li>'Opening'</li>\n",
       "</ol>\n"
      ],
      "text/latex": [
       "\\begin{enumerate}\n",
       "\\item 'Grand'\n",
       "\\item 'Opening'\n",
       "\\end{enumerate}\n"
      ],
      "text/markdown": [
       "1. 'Grand'\n",
       "2. 'Opening'\n",
       "\n",
       "\n"
      ],
      "text/plain": [
       "[[1]]\n",
       "[1] \"Grand\"\n",
       "\n",
       "[[2]]\n",
       "[1] \"Opening\"\n"
      ]
     },
     "metadata": {},
     "output_type": "display_data"
    }
   ],
   "source": [
    "# ============ List Exercise 9 ============\n",
    "string <- \"Grand Opening\"\n",
    "s = strsplit(string,\" \")[[1]]\n",
    "list(s[1],s[2])\n"
   ]
  },
  {
   "cell_type": "markdown",
   "metadata": {},
   "source": [
    "### List Exercise 10 (bonus)"
   ]
  },
  {
   "cell_type": "code",
   "execution_count": 17,
   "metadata": {},
   "outputs": [
    {
     "data": {
      "text/html": [
       "<ol>\n",
       "\t<li>'A'</li>\n",
       "\t<li>'B'</li>\n",
       "\t<li>'C'</li>\n",
       "</ol>\n"
      ],
      "text/latex": [
       "\\begin{enumerate}\n",
       "\\item 'A'\n",
       "\\item 'B'\n",
       "\\item 'C'\n",
       "\\end{enumerate}\n"
      ],
      "text/markdown": [
       "1. 'A'\n",
       "2. 'B'\n",
       "3. 'C'\n",
       "\n",
       "\n"
      ],
      "text/plain": [
       "[[1]]\n",
       "[1] \"A\"\n",
       "\n",
       "[[2]]\n",
       "[1] \"B\"\n",
       "\n",
       "[[3]]\n",
       "[1] \"C\"\n"
      ]
     },
     "metadata": {},
     "output_type": "display_data"
    }
   ],
   "source": [
    "# ============ List Exercise 10 (bonus) ============\n",
    "y <- list(\"a\", \"b\", \"c\")\n",
    "q <- list(\"A\", \"B\", \"C\", \"a\", \"b\", \"c\")\n",
    "d = setdiff(q,y)\n",
    "d"
   ]
  },
  {
   "cell_type": "code",
   "execution_count": null,
   "metadata": {},
   "outputs": [],
   "source": []
  }
 ],
 "metadata": {
  "kernelspec": {
   "display_name": "R",
   "language": "R",
   "name": "ir"
  },
  "language_info": {
   "codemirror_mode": "r",
   "file_extension": ".r",
   "mimetype": "text/x-r-source",
   "name": "R",
   "pygments_lexer": "r",
   "version": "3.6.1"
  }
 },
 "nbformat": 4,
 "nbformat_minor": 2
}
